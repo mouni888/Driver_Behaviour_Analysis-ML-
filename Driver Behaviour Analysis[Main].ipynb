{
 "cells": [
  {
   "cell_type": "markdown",
   "id": "8fafb73e",
   "metadata": {},
   "source": [
    "#### Importing Necessary Libraries:"
   ]
  },
  {
   "cell_type": "code",
   "execution_count": 1,
   "id": "88815896",
   "metadata": {},
   "outputs": [],
   "source": [
    "import pandas as pd\n",
    "import numpy as np\n",
    "import matplotlib.pyplot as plt\n",
    "import seaborn as sns\n",
    "\n",
    "import warnings\n",
    "warnings.filterwarnings(\"ignore\")"
   ]
  },
  {
   "cell_type": "markdown",
   "id": "321d9fd7",
   "metadata": {},
   "source": [
    "#### Loading the Data:"
   ]
  },
  {
   "cell_type": "code",
   "execution_count": 3,
   "id": "1faf6050",
   "metadata": {},
   "outputs": [],
   "source": [
    "df_train = pd.read_csv(\"C:/Users/USER/Downloads/Driver Behaviour Analysis/train_motion_data.csv\")\n",
    "df_test  = pd.read_csv(\"C:/Users/USER/Downloads/Driver Behaviour Analysis/test_motion_data.csv\")"
   ]
  },
  {
   "cell_type": "code",
   "execution_count": 4,
   "id": "8686c8fe",
   "metadata": {},
   "outputs": [
    {
     "data": {
      "text/html": [
       "<div>\n",
       "<style scoped>\n",
       "    .dataframe tbody tr th:only-of-type {\n",
       "        vertical-align: middle;\n",
       "    }\n",
       "\n",
       "    .dataframe tbody tr th {\n",
       "        vertical-align: top;\n",
       "    }\n",
       "\n",
       "    .dataframe thead th {\n",
       "        text-align: right;\n",
       "    }\n",
       "</style>\n",
       "<table border=\"1\" class=\"dataframe\">\n",
       "  <thead>\n",
       "    <tr style=\"text-align: right;\">\n",
       "      <th></th>\n",
       "      <th>AccX</th>\n",
       "      <th>AccY</th>\n",
       "      <th>AccZ</th>\n",
       "      <th>GyroX</th>\n",
       "      <th>GyroY</th>\n",
       "      <th>GyroZ</th>\n",
       "      <th>Class</th>\n",
       "      <th>Timestamp</th>\n",
       "    </tr>\n",
       "  </thead>\n",
       "  <tbody>\n",
       "    <tr>\n",
       "      <th>0</th>\n",
       "      <td>0.000000</td>\n",
       "      <td>0.000000</td>\n",
       "      <td>0.000000</td>\n",
       "      <td>0.059407</td>\n",
       "      <td>-0.174707</td>\n",
       "      <td>0.101938</td>\n",
       "      <td>NORMAL</td>\n",
       "      <td>3581629</td>\n",
       "    </tr>\n",
       "    <tr>\n",
       "      <th>1</th>\n",
       "      <td>-1.624864</td>\n",
       "      <td>-1.082492</td>\n",
       "      <td>-0.204183</td>\n",
       "      <td>-0.028558</td>\n",
       "      <td>0.051313</td>\n",
       "      <td>0.135536</td>\n",
       "      <td>NORMAL</td>\n",
       "      <td>3581630</td>\n",
       "    </tr>\n",
       "    <tr>\n",
       "      <th>2</th>\n",
       "      <td>-0.594660</td>\n",
       "      <td>-0.122410</td>\n",
       "      <td>0.220502</td>\n",
       "      <td>-0.019395</td>\n",
       "      <td>-0.029322</td>\n",
       "      <td>0.087888</td>\n",
       "      <td>NORMAL</td>\n",
       "      <td>3581630</td>\n",
       "    </tr>\n",
       "    <tr>\n",
       "      <th>3</th>\n",
       "      <td>0.738478</td>\n",
       "      <td>-0.228456</td>\n",
       "      <td>0.667732</td>\n",
       "      <td>0.069791</td>\n",
       "      <td>-0.029932</td>\n",
       "      <td>0.054902</td>\n",
       "      <td>NORMAL</td>\n",
       "      <td>3581631</td>\n",
       "    </tr>\n",
       "    <tr>\n",
       "      <th>4</th>\n",
       "      <td>0.101741</td>\n",
       "      <td>0.777568</td>\n",
       "      <td>-0.066730</td>\n",
       "      <td>0.030696</td>\n",
       "      <td>-0.003665</td>\n",
       "      <td>0.054902</td>\n",
       "      <td>NORMAL</td>\n",
       "      <td>3581631</td>\n",
       "    </tr>\n",
       "  </tbody>\n",
       "</table>\n",
       "</div>"
      ],
      "text/plain": [
       "       AccX      AccY      AccZ     GyroX     GyroY     GyroZ   Class  \\\n",
       "0  0.000000  0.000000  0.000000  0.059407 -0.174707  0.101938  NORMAL   \n",
       "1 -1.624864 -1.082492 -0.204183 -0.028558  0.051313  0.135536  NORMAL   \n",
       "2 -0.594660 -0.122410  0.220502 -0.019395 -0.029322  0.087888  NORMAL   \n",
       "3  0.738478 -0.228456  0.667732  0.069791 -0.029932  0.054902  NORMAL   \n",
       "4  0.101741  0.777568 -0.066730  0.030696 -0.003665  0.054902  NORMAL   \n",
       "\n",
       "   Timestamp  \n",
       "0    3581629  \n",
       "1    3581630  \n",
       "2    3581630  \n",
       "3    3581631  \n",
       "4    3581631  "
      ]
     },
     "execution_count": 4,
     "metadata": {},
     "output_type": "execute_result"
    }
   ],
   "source": [
    "df_train.head()"
   ]
  },
  {
   "cell_type": "code",
   "execution_count": 5,
   "id": "a21f4973",
   "metadata": {},
   "outputs": [
    {
     "data": {
      "text/html": [
       "<div>\n",
       "<style scoped>\n",
       "    .dataframe tbody tr th:only-of-type {\n",
       "        vertical-align: middle;\n",
       "    }\n",
       "\n",
       "    .dataframe tbody tr th {\n",
       "        vertical-align: top;\n",
       "    }\n",
       "\n",
       "    .dataframe thead th {\n",
       "        text-align: right;\n",
       "    }\n",
       "</style>\n",
       "<table border=\"1\" class=\"dataframe\">\n",
       "  <thead>\n",
       "    <tr style=\"text-align: right;\">\n",
       "      <th></th>\n",
       "      <th>AccX</th>\n",
       "      <th>AccY</th>\n",
       "      <th>AccZ</th>\n",
       "      <th>GyroX</th>\n",
       "      <th>GyroY</th>\n",
       "      <th>GyroZ</th>\n",
       "      <th>Class</th>\n",
       "      <th>Timestamp</th>\n",
       "    </tr>\n",
       "  </thead>\n",
       "  <tbody>\n",
       "    <tr>\n",
       "      <th>0</th>\n",
       "      <td>0.758194</td>\n",
       "      <td>-0.217791</td>\n",
       "      <td>0.457263</td>\n",
       "      <td>0.000000</td>\n",
       "      <td>0.000000</td>\n",
       "      <td>0.000000</td>\n",
       "      <td>AGGRESSIVE</td>\n",
       "      <td>818922</td>\n",
       "    </tr>\n",
       "    <tr>\n",
       "      <th>1</th>\n",
       "      <td>0.667560</td>\n",
       "      <td>-0.038610</td>\n",
       "      <td>0.231416</td>\n",
       "      <td>-0.054367</td>\n",
       "      <td>-0.007712</td>\n",
       "      <td>0.225257</td>\n",
       "      <td>AGGRESSIVE</td>\n",
       "      <td>818923</td>\n",
       "    </tr>\n",
       "    <tr>\n",
       "      <th>2</th>\n",
       "      <td>2.724449</td>\n",
       "      <td>-7.584121</td>\n",
       "      <td>2.390926</td>\n",
       "      <td>0.023824</td>\n",
       "      <td>0.013668</td>\n",
       "      <td>-0.038026</td>\n",
       "      <td>AGGRESSIVE</td>\n",
       "      <td>818923</td>\n",
       "    </tr>\n",
       "    <tr>\n",
       "      <th>3</th>\n",
       "      <td>2.330950</td>\n",
       "      <td>-7.621754</td>\n",
       "      <td>2.529024</td>\n",
       "      <td>0.056810</td>\n",
       "      <td>-0.180587</td>\n",
       "      <td>-0.052076</td>\n",
       "      <td>AGGRESSIVE</td>\n",
       "      <td>818924</td>\n",
       "    </tr>\n",
       "    <tr>\n",
       "      <th>4</th>\n",
       "      <td>2.847215</td>\n",
       "      <td>-6.755621</td>\n",
       "      <td>2.224640</td>\n",
       "      <td>-0.031765</td>\n",
       "      <td>-0.035201</td>\n",
       "      <td>0.035277</td>\n",
       "      <td>AGGRESSIVE</td>\n",
       "      <td>818924</td>\n",
       "    </tr>\n",
       "  </tbody>\n",
       "</table>\n",
       "</div>"
      ],
      "text/plain": [
       "       AccX      AccY      AccZ     GyroX     GyroY     GyroZ       Class  \\\n",
       "0  0.758194 -0.217791  0.457263  0.000000  0.000000  0.000000  AGGRESSIVE   \n",
       "1  0.667560 -0.038610  0.231416 -0.054367 -0.007712  0.225257  AGGRESSIVE   \n",
       "2  2.724449 -7.584121  2.390926  0.023824  0.013668 -0.038026  AGGRESSIVE   \n",
       "3  2.330950 -7.621754  2.529024  0.056810 -0.180587 -0.052076  AGGRESSIVE   \n",
       "4  2.847215 -6.755621  2.224640 -0.031765 -0.035201  0.035277  AGGRESSIVE   \n",
       "\n",
       "   Timestamp  \n",
       "0     818922  \n",
       "1     818923  \n",
       "2     818923  \n",
       "3     818924  \n",
       "4     818924  "
      ]
     },
     "execution_count": 5,
     "metadata": {},
     "output_type": "execute_result"
    }
   ],
   "source": [
    "df_test.head()"
   ]
  },
  {
   "cell_type": "code",
   "execution_count": 6,
   "id": "2b5c147c",
   "metadata": {},
   "outputs": [
    {
     "data": {
      "text/plain": [
       "(3644, 8)"
      ]
     },
     "execution_count": 6,
     "metadata": {},
     "output_type": "execute_result"
    }
   ],
   "source": [
    "# Checking the shape of the Dataframe\n",
    "df_train.shape"
   ]
  },
  {
   "cell_type": "code",
   "execution_count": 7,
   "id": "659562ff",
   "metadata": {},
   "outputs": [
    {
     "data": {
      "text/plain": [
       "(3084, 8)"
      ]
     },
     "execution_count": 7,
     "metadata": {},
     "output_type": "execute_result"
    }
   ],
   "source": [
    "df_test.shape"
   ]
  },
  {
   "cell_type": "code",
   "execution_count": 8,
   "id": "c47fdc83",
   "metadata": {},
   "outputs": [
    {
     "name": "stdout",
     "output_type": "stream",
     "text": [
      "<class 'pandas.core.frame.DataFrame'>\n",
      "RangeIndex: 3644 entries, 0 to 3643\n",
      "Data columns (total 8 columns):\n",
      " #   Column     Non-Null Count  Dtype  \n",
      "---  ------     --------------  -----  \n",
      " 0   AccX       3644 non-null   float64\n",
      " 1   AccY       3644 non-null   float64\n",
      " 2   AccZ       3644 non-null   float64\n",
      " 3   GyroX      3644 non-null   float64\n",
      " 4   GyroY      3644 non-null   float64\n",
      " 5   GyroZ      3644 non-null   float64\n",
      " 6   Class      3644 non-null   object \n",
      " 7   Timestamp  3644 non-null   int64  \n",
      "dtypes: float64(6), int64(1), object(1)\n",
      "memory usage: 227.9+ KB\n"
     ]
    }
   ],
   "source": [
    "# Checking the Datatypes:\n",
    "df_train.info()"
   ]
  },
  {
   "cell_type": "code",
   "execution_count": 28,
   "id": "7132c773",
   "metadata": {},
   "outputs": [
    {
     "name": "stdout",
     "output_type": "stream",
     "text": [
      "<class 'pandas.core.frame.DataFrame'>\n",
      "RangeIndex: 3084 entries, 0 to 3083\n",
      "Data columns (total 8 columns):\n",
      " #   Column     Non-Null Count  Dtype  \n",
      "---  ------     --------------  -----  \n",
      " 0   AccX       3084 non-null   float64\n",
      " 1   AccY       3084 non-null   float64\n",
      " 2   AccZ       3084 non-null   float64\n",
      " 3   GyroX      3084 non-null   float64\n",
      " 4   GyroY      3084 non-null   float64\n",
      " 5   GyroZ      3084 non-null   float64\n",
      " 6   Class      3084 non-null   object \n",
      " 7   Timestamp  3084 non-null   int64  \n",
      "dtypes: float64(6), int64(1), object(1)\n",
      "memory usage: 192.9+ KB\n"
     ]
    }
   ],
   "source": [
    "df_test.info()"
   ]
  },
  {
   "cell_type": "code",
   "execution_count": 29,
   "id": "d6a99c66",
   "metadata": {},
   "outputs": [
    {
     "data": {
      "text/plain": [
       "AccX         0\n",
       "AccY         0\n",
       "AccZ         0\n",
       "GyroX        0\n",
       "GyroY        0\n",
       "GyroZ        0\n",
       "Class        0\n",
       "Timestamp    0\n",
       "dtype: int64"
      ]
     },
     "execution_count": 29,
     "metadata": {},
     "output_type": "execute_result"
    }
   ],
   "source": [
    "# Checking the null values:\n",
    "df_train.isnull().sum()"
   ]
  },
  {
   "cell_type": "code",
   "execution_count": 30,
   "id": "21905618",
   "metadata": {},
   "outputs": [
    {
     "data": {
      "text/plain": [
       "AccX         0\n",
       "AccY         0\n",
       "AccZ         0\n",
       "GyroX        0\n",
       "GyroY        0\n",
       "GyroZ        0\n",
       "Class        0\n",
       "Timestamp    0\n",
       "dtype: int64"
      ]
     },
     "execution_count": 30,
     "metadata": {},
     "output_type": "execute_result"
    }
   ],
   "source": [
    "df_test.isnull().sum()"
   ]
  },
  {
   "cell_type": "code",
   "execution_count": 31,
   "id": "b1a9c8b5",
   "metadata": {},
   "outputs": [
    {
     "data": {
      "text/html": [
       "<div>\n",
       "<style scoped>\n",
       "    .dataframe tbody tr th:only-of-type {\n",
       "        vertical-align: middle;\n",
       "    }\n",
       "\n",
       "    .dataframe tbody tr th {\n",
       "        vertical-align: top;\n",
       "    }\n",
       "\n",
       "    .dataframe thead th {\n",
       "        text-align: right;\n",
       "    }\n",
       "</style>\n",
       "<table border=\"1\" class=\"dataframe\">\n",
       "  <thead>\n",
       "    <tr style=\"text-align: right;\">\n",
       "      <th></th>\n",
       "      <th>AccX</th>\n",
       "      <th>AccY</th>\n",
       "      <th>AccZ</th>\n",
       "      <th>GyroX</th>\n",
       "      <th>GyroY</th>\n",
       "      <th>GyroZ</th>\n",
       "      <th>Timestamp</th>\n",
       "    </tr>\n",
       "  </thead>\n",
       "  <tbody>\n",
       "    <tr>\n",
       "      <th>count</th>\n",
       "      <td>3644.000000</td>\n",
       "      <td>3644.000000</td>\n",
       "      <td>3644.000000</td>\n",
       "      <td>3644.000000</td>\n",
       "      <td>3644.000000</td>\n",
       "      <td>3644.000000</td>\n",
       "      <td>3.644000e+03</td>\n",
       "    </tr>\n",
       "    <tr>\n",
       "      <th>mean</th>\n",
       "      <td>0.040467</td>\n",
       "      <td>-0.073418</td>\n",
       "      <td>0.008271</td>\n",
       "      <td>0.001593</td>\n",
       "      <td>-0.001273</td>\n",
       "      <td>0.007949</td>\n",
       "      <td>3.582707e+06</td>\n",
       "    </tr>\n",
       "    <tr>\n",
       "      <th>std</th>\n",
       "      <td>0.985653</td>\n",
       "      <td>0.903408</td>\n",
       "      <td>0.985061</td>\n",
       "      <td>0.066918</td>\n",
       "      <td>0.126205</td>\n",
       "      <td>0.115687</td>\n",
       "      <td>6.421479e+02</td>\n",
       "    </tr>\n",
       "    <tr>\n",
       "      <th>min</th>\n",
       "      <td>-4.636523</td>\n",
       "      <td>-4.699795</td>\n",
       "      <td>-7.143998</td>\n",
       "      <td>-0.751822</td>\n",
       "      <td>-1.587028</td>\n",
       "      <td>-1.236468</td>\n",
       "      <td>3.581629e+06</td>\n",
       "    </tr>\n",
       "    <tr>\n",
       "      <th>25%</th>\n",
       "      <td>-0.550695</td>\n",
       "      <td>-0.592540</td>\n",
       "      <td>-0.558464</td>\n",
       "      <td>-0.028558</td>\n",
       "      <td>-0.053756</td>\n",
       "      <td>-0.029398</td>\n",
       "      <td>3.582121e+06</td>\n",
       "    </tr>\n",
       "    <tr>\n",
       "      <th>50%</th>\n",
       "      <td>0.003931</td>\n",
       "      <td>-0.080833</td>\n",
       "      <td>0.002262</td>\n",
       "      <td>0.001985</td>\n",
       "      <td>-0.001833</td>\n",
       "      <td>0.002978</td>\n",
       "      <td>3.582702e+06</td>\n",
       "    </tr>\n",
       "    <tr>\n",
       "      <th>75%</th>\n",
       "      <td>0.595987</td>\n",
       "      <td>0.452401</td>\n",
       "      <td>0.556157</td>\n",
       "      <td>0.031918</td>\n",
       "      <td>0.051313</td>\n",
       "      <td>0.040852</td>\n",
       "      <td>3.583270e+06</td>\n",
       "    </tr>\n",
       "    <tr>\n",
       "      <th>max</th>\n",
       "      <td>4.985548</td>\n",
       "      <td>4.245151</td>\n",
       "      <td>5.171739</td>\n",
       "      <td>0.849255</td>\n",
       "      <td>1.679879</td>\n",
       "      <td>1.190500</td>\n",
       "      <td>3.583791e+06</td>\n",
       "    </tr>\n",
       "  </tbody>\n",
       "</table>\n",
       "</div>"
      ],
      "text/plain": [
       "              AccX         AccY         AccZ        GyroX        GyroY  \\\n",
       "count  3644.000000  3644.000000  3644.000000  3644.000000  3644.000000   \n",
       "mean      0.040467    -0.073418     0.008271     0.001593    -0.001273   \n",
       "std       0.985653     0.903408     0.985061     0.066918     0.126205   \n",
       "min      -4.636523    -4.699795    -7.143998    -0.751822    -1.587028   \n",
       "25%      -0.550695    -0.592540    -0.558464    -0.028558    -0.053756   \n",
       "50%       0.003931    -0.080833     0.002262     0.001985    -0.001833   \n",
       "75%       0.595987     0.452401     0.556157     0.031918     0.051313   \n",
       "max       4.985548     4.245151     5.171739     0.849255     1.679879   \n",
       "\n",
       "             GyroZ     Timestamp  \n",
       "count  3644.000000  3.644000e+03  \n",
       "mean      0.007949  3.582707e+06  \n",
       "std       0.115687  6.421479e+02  \n",
       "min      -1.236468  3.581629e+06  \n",
       "25%      -0.029398  3.582121e+06  \n",
       "50%       0.002978  3.582702e+06  \n",
       "75%       0.040852  3.583270e+06  \n",
       "max       1.190500  3.583791e+06  "
      ]
     },
     "execution_count": 31,
     "metadata": {},
     "output_type": "execute_result"
    }
   ],
   "source": [
    "# Description of the Dataframe\n",
    "df_train.describe()"
   ]
  },
  {
   "cell_type": "code",
   "execution_count": 32,
   "id": "db29a531",
   "metadata": {},
   "outputs": [
    {
     "data": {
      "text/html": [
       "<div>\n",
       "<style scoped>\n",
       "    .dataframe tbody tr th:only-of-type {\n",
       "        vertical-align: middle;\n",
       "    }\n",
       "\n",
       "    .dataframe tbody tr th {\n",
       "        vertical-align: top;\n",
       "    }\n",
       "\n",
       "    .dataframe thead th {\n",
       "        text-align: right;\n",
       "    }\n",
       "</style>\n",
       "<table border=\"1\" class=\"dataframe\">\n",
       "  <thead>\n",
       "    <tr style=\"text-align: right;\">\n",
       "      <th></th>\n",
       "      <th>AccX</th>\n",
       "      <th>AccY</th>\n",
       "      <th>AccZ</th>\n",
       "      <th>GyroX</th>\n",
       "      <th>GyroY</th>\n",
       "      <th>GyroZ</th>\n",
       "      <th>Timestamp</th>\n",
       "    </tr>\n",
       "  </thead>\n",
       "  <tbody>\n",
       "    <tr>\n",
       "      <th>count</th>\n",
       "      <td>3084.000000</td>\n",
       "      <td>3084.000000</td>\n",
       "      <td>3084.000000</td>\n",
       "      <td>3084.000000</td>\n",
       "      <td>3084.000000</td>\n",
       "      <td>3084.000000</td>\n",
       "      <td>3084.000000</td>\n",
       "    </tr>\n",
       "    <tr>\n",
       "      <th>mean</th>\n",
       "      <td>0.106234</td>\n",
       "      <td>-0.131791</td>\n",
       "      <td>0.045011</td>\n",
       "      <td>0.003192</td>\n",
       "      <td>0.001452</td>\n",
       "      <td>0.011472</td>\n",
       "      <td>819830.000324</td>\n",
       "    </tr>\n",
       "    <tr>\n",
       "      <th>std</th>\n",
       "      <td>0.968089</td>\n",
       "      <td>0.904398</td>\n",
       "      <td>0.997625</td>\n",
       "      <td>0.066636</td>\n",
       "      <td>0.120963</td>\n",
       "      <td>0.113535</td>\n",
       "      <td>525.760733</td>\n",
       "    </tr>\n",
       "    <tr>\n",
       "      <th>min</th>\n",
       "      <td>-4.854163</td>\n",
       "      <td>-7.621754</td>\n",
       "      <td>-6.106982</td>\n",
       "      <td>-0.514959</td>\n",
       "      <td>-1.309466</td>\n",
       "      <td>-0.976315</td>\n",
       "      <td>818922.000000</td>\n",
       "    </tr>\n",
       "    <tr>\n",
       "      <th>25%</th>\n",
       "      <td>-0.408916</td>\n",
       "      <td>-0.625868</td>\n",
       "      <td>-0.461438</td>\n",
       "      <td>-0.024435</td>\n",
       "      <td>-0.045739</td>\n",
       "      <td>-0.027031</td>\n",
       "      <td>819338.000000</td>\n",
       "    </tr>\n",
       "    <tr>\n",
       "      <th>50%</th>\n",
       "      <td>0.051892</td>\n",
       "      <td>-0.096929</td>\n",
       "      <td>0.054154</td>\n",
       "      <td>0.001222</td>\n",
       "      <td>-0.000993</td>\n",
       "      <td>0.002291</td>\n",
       "      <td>819832.500000</td>\n",
       "    </tr>\n",
       "    <tr>\n",
       "      <th>75%</th>\n",
       "      <td>0.579148</td>\n",
       "      <td>0.393118</td>\n",
       "      <td>0.575119</td>\n",
       "      <td>0.028100</td>\n",
       "      <td>0.043601</td>\n",
       "      <td>0.035888</td>\n",
       "      <td>820292.250000</td>\n",
       "    </tr>\n",
       "    <tr>\n",
       "      <th>max</th>\n",
       "      <td>5.864980</td>\n",
       "      <td>4.308813</td>\n",
       "      <td>5.564037</td>\n",
       "      <td>1.490511</td>\n",
       "      <td>1.707598</td>\n",
       "      <td>0.719447</td>\n",
       "      <td>820709.000000</td>\n",
       "    </tr>\n",
       "  </tbody>\n",
       "</table>\n",
       "</div>"
      ],
      "text/plain": [
       "              AccX         AccY         AccZ        GyroX        GyroY  \\\n",
       "count  3084.000000  3084.000000  3084.000000  3084.000000  3084.000000   \n",
       "mean      0.106234    -0.131791     0.045011     0.003192     0.001452   \n",
       "std       0.968089     0.904398     0.997625     0.066636     0.120963   \n",
       "min      -4.854163    -7.621754    -6.106982    -0.514959    -1.309466   \n",
       "25%      -0.408916    -0.625868    -0.461438    -0.024435    -0.045739   \n",
       "50%       0.051892    -0.096929     0.054154     0.001222    -0.000993   \n",
       "75%       0.579148     0.393118     0.575119     0.028100     0.043601   \n",
       "max       5.864980     4.308813     5.564037     1.490511     1.707598   \n",
       "\n",
       "             GyroZ      Timestamp  \n",
       "count  3084.000000    3084.000000  \n",
       "mean      0.011472  819830.000324  \n",
       "std       0.113535     525.760733  \n",
       "min      -0.976315  818922.000000  \n",
       "25%      -0.027031  819338.000000  \n",
       "50%       0.002291  819832.500000  \n",
       "75%       0.035888  820292.250000  \n",
       "max       0.719447  820709.000000  "
      ]
     },
     "execution_count": 32,
     "metadata": {},
     "output_type": "execute_result"
    }
   ],
   "source": [
    "df_test.describe()"
   ]
  },
  {
   "cell_type": "code",
   "execution_count": 33,
   "id": "06762400",
   "metadata": {},
   "outputs": [
    {
     "data": {
      "text/html": [
       "<div>\n",
       "<style scoped>\n",
       "    .dataframe tbody tr th:only-of-type {\n",
       "        vertical-align: middle;\n",
       "    }\n",
       "\n",
       "    .dataframe tbody tr th {\n",
       "        vertical-align: top;\n",
       "    }\n",
       "\n",
       "    .dataframe thead th {\n",
       "        text-align: right;\n",
       "    }\n",
       "</style>\n",
       "<table border=\"1\" class=\"dataframe\">\n",
       "  <thead>\n",
       "    <tr style=\"text-align: right;\">\n",
       "      <th></th>\n",
       "      <th>AccX</th>\n",
       "      <th>AccY</th>\n",
       "      <th>AccZ</th>\n",
       "      <th>GyroX</th>\n",
       "      <th>GyroY</th>\n",
       "      <th>GyroZ</th>\n",
       "      <th>Class</th>\n",
       "      <th>Timestamp</th>\n",
       "    </tr>\n",
       "  </thead>\n",
       "  <tbody>\n",
       "    <tr>\n",
       "      <th>0</th>\n",
       "      <td>0.000000</td>\n",
       "      <td>0.000000</td>\n",
       "      <td>0.000000</td>\n",
       "      <td>0.059407</td>\n",
       "      <td>-0.174707</td>\n",
       "      <td>0.101938</td>\n",
       "      <td>NORMAL</td>\n",
       "      <td>3581629</td>\n",
       "    </tr>\n",
       "    <tr>\n",
       "      <th>1</th>\n",
       "      <td>-1.624864</td>\n",
       "      <td>-1.082492</td>\n",
       "      <td>-0.204183</td>\n",
       "      <td>-0.028558</td>\n",
       "      <td>0.051313</td>\n",
       "      <td>0.135536</td>\n",
       "      <td>NORMAL</td>\n",
       "      <td>3581630</td>\n",
       "    </tr>\n",
       "    <tr>\n",
       "      <th>2</th>\n",
       "      <td>-0.594660</td>\n",
       "      <td>-0.122410</td>\n",
       "      <td>0.220502</td>\n",
       "      <td>-0.019395</td>\n",
       "      <td>-0.029322</td>\n",
       "      <td>0.087888</td>\n",
       "      <td>NORMAL</td>\n",
       "      <td>3581630</td>\n",
       "    </tr>\n",
       "    <tr>\n",
       "      <th>3</th>\n",
       "      <td>0.738478</td>\n",
       "      <td>-0.228456</td>\n",
       "      <td>0.667732</td>\n",
       "      <td>0.069791</td>\n",
       "      <td>-0.029932</td>\n",
       "      <td>0.054902</td>\n",
       "      <td>NORMAL</td>\n",
       "      <td>3581631</td>\n",
       "    </tr>\n",
       "    <tr>\n",
       "      <th>4</th>\n",
       "      <td>0.101741</td>\n",
       "      <td>0.777568</td>\n",
       "      <td>-0.066730</td>\n",
       "      <td>0.030696</td>\n",
       "      <td>-0.003665</td>\n",
       "      <td>0.054902</td>\n",
       "      <td>NORMAL</td>\n",
       "      <td>3581631</td>\n",
       "    </tr>\n",
       "  </tbody>\n",
       "</table>\n",
       "</div>"
      ],
      "text/plain": [
       "       AccX      AccY      AccZ     GyroX     GyroY     GyroZ   Class  \\\n",
       "0  0.000000  0.000000  0.000000  0.059407 -0.174707  0.101938  NORMAL   \n",
       "1 -1.624864 -1.082492 -0.204183 -0.028558  0.051313  0.135536  NORMAL   \n",
       "2 -0.594660 -0.122410  0.220502 -0.019395 -0.029322  0.087888  NORMAL   \n",
       "3  0.738478 -0.228456  0.667732  0.069791 -0.029932  0.054902  NORMAL   \n",
       "4  0.101741  0.777568 -0.066730  0.030696 -0.003665  0.054902  NORMAL   \n",
       "\n",
       "   Timestamp  \n",
       "0    3581629  \n",
       "1    3581630  \n",
       "2    3581630  \n",
       "3    3581631  \n",
       "4    3581631  "
      ]
     },
     "execution_count": 33,
     "metadata": {},
     "output_type": "execute_result"
    }
   ],
   "source": [
    "df_train.head()"
   ]
  },
  {
   "cell_type": "code",
   "execution_count": 34,
   "id": "2020f1bc",
   "metadata": {},
   "outputs": [
    {
     "data": {
      "text/html": [
       "<div>\n",
       "<style scoped>\n",
       "    .dataframe tbody tr th:only-of-type {\n",
       "        vertical-align: middle;\n",
       "    }\n",
       "\n",
       "    .dataframe tbody tr th {\n",
       "        vertical-align: top;\n",
       "    }\n",
       "\n",
       "    .dataframe thead th {\n",
       "        text-align: right;\n",
       "    }\n",
       "</style>\n",
       "<table border=\"1\" class=\"dataframe\">\n",
       "  <thead>\n",
       "    <tr style=\"text-align: right;\">\n",
       "      <th></th>\n",
       "      <th>AccX</th>\n",
       "      <th>AccY</th>\n",
       "      <th>AccZ</th>\n",
       "      <th>GyroX</th>\n",
       "      <th>GyroY</th>\n",
       "      <th>GyroZ</th>\n",
       "      <th>Class</th>\n",
       "      <th>Timestamp</th>\n",
       "    </tr>\n",
       "  </thead>\n",
       "  <tbody>\n",
       "    <tr>\n",
       "      <th>0</th>\n",
       "      <td>0.758194</td>\n",
       "      <td>-0.217791</td>\n",
       "      <td>0.457263</td>\n",
       "      <td>0.000000</td>\n",
       "      <td>0.000000</td>\n",
       "      <td>0.000000</td>\n",
       "      <td>AGGRESSIVE</td>\n",
       "      <td>818922</td>\n",
       "    </tr>\n",
       "    <tr>\n",
       "      <th>1</th>\n",
       "      <td>0.667560</td>\n",
       "      <td>-0.038610</td>\n",
       "      <td>0.231416</td>\n",
       "      <td>-0.054367</td>\n",
       "      <td>-0.007712</td>\n",
       "      <td>0.225257</td>\n",
       "      <td>AGGRESSIVE</td>\n",
       "      <td>818923</td>\n",
       "    </tr>\n",
       "    <tr>\n",
       "      <th>2</th>\n",
       "      <td>2.724449</td>\n",
       "      <td>-7.584121</td>\n",
       "      <td>2.390926</td>\n",
       "      <td>0.023824</td>\n",
       "      <td>0.013668</td>\n",
       "      <td>-0.038026</td>\n",
       "      <td>AGGRESSIVE</td>\n",
       "      <td>818923</td>\n",
       "    </tr>\n",
       "    <tr>\n",
       "      <th>3</th>\n",
       "      <td>2.330950</td>\n",
       "      <td>-7.621754</td>\n",
       "      <td>2.529024</td>\n",
       "      <td>0.056810</td>\n",
       "      <td>-0.180587</td>\n",
       "      <td>-0.052076</td>\n",
       "      <td>AGGRESSIVE</td>\n",
       "      <td>818924</td>\n",
       "    </tr>\n",
       "    <tr>\n",
       "      <th>4</th>\n",
       "      <td>2.847215</td>\n",
       "      <td>-6.755621</td>\n",
       "      <td>2.224640</td>\n",
       "      <td>-0.031765</td>\n",
       "      <td>-0.035201</td>\n",
       "      <td>0.035277</td>\n",
       "      <td>AGGRESSIVE</td>\n",
       "      <td>818924</td>\n",
       "    </tr>\n",
       "    <tr>\n",
       "      <th>...</th>\n",
       "      <td>...</td>\n",
       "      <td>...</td>\n",
       "      <td>...</td>\n",
       "      <td>...</td>\n",
       "      <td>...</td>\n",
       "      <td>...</td>\n",
       "      <td>...</td>\n",
       "      <td>...</td>\n",
       "    </tr>\n",
       "    <tr>\n",
       "      <th>3079</th>\n",
       "      <td>-0.713858</td>\n",
       "      <td>-0.652975</td>\n",
       "      <td>-0.164015</td>\n",
       "      <td>-0.147829</td>\n",
       "      <td>-1.309466</td>\n",
       "      <td>0.517250</td>\n",
       "      <td>SLOW</td>\n",
       "      <td>820706</td>\n",
       "    </tr>\n",
       "    <tr>\n",
       "      <th>3080</th>\n",
       "      <td>1.514261</td>\n",
       "      <td>0.330070</td>\n",
       "      <td>1.020714</td>\n",
       "      <td>1.321302</td>\n",
       "      <td>1.707598</td>\n",
       "      <td>-0.674548</td>\n",
       "      <td>SLOW</td>\n",
       "      <td>820707</td>\n",
       "    </tr>\n",
       "    <tr>\n",
       "      <th>3081</th>\n",
       "      <td>1.280216</td>\n",
       "      <td>-1.735172</td>\n",
       "      <td>-2.332695</td>\n",
       "      <td>0.583376</td>\n",
       "      <td>0.690507</td>\n",
       "      <td>-0.468075</td>\n",
       "      <td>SLOW</td>\n",
       "      <td>820707</td>\n",
       "    </tr>\n",
       "    <tr>\n",
       "      <th>3082</th>\n",
       "      <td>0.912313</td>\n",
       "      <td>0.583314</td>\n",
       "      <td>-0.965622</td>\n",
       "      <td>0.235794</td>\n",
       "      <td>0.512745</td>\n",
       "      <td>0.406073</td>\n",
       "      <td>SLOW</td>\n",
       "      <td>820708</td>\n",
       "    </tr>\n",
       "    <tr>\n",
       "      <th>3083</th>\n",
       "      <td>1.462172</td>\n",
       "      <td>0.190287</td>\n",
       "      <td>0.019377</td>\n",
       "      <td>-0.254731</td>\n",
       "      <td>-0.279547</td>\n",
       "      <td>0.076205</td>\n",
       "      <td>SLOW</td>\n",
       "      <td>820709</td>\n",
       "    </tr>\n",
       "  </tbody>\n",
       "</table>\n",
       "<p>3084 rows × 8 columns</p>\n",
       "</div>"
      ],
      "text/plain": [
       "          AccX      AccY      AccZ     GyroX     GyroY     GyroZ       Class  \\\n",
       "0     0.758194 -0.217791  0.457263  0.000000  0.000000  0.000000  AGGRESSIVE   \n",
       "1     0.667560 -0.038610  0.231416 -0.054367 -0.007712  0.225257  AGGRESSIVE   \n",
       "2     2.724449 -7.584121  2.390926  0.023824  0.013668 -0.038026  AGGRESSIVE   \n",
       "3     2.330950 -7.621754  2.529024  0.056810 -0.180587 -0.052076  AGGRESSIVE   \n",
       "4     2.847215 -6.755621  2.224640 -0.031765 -0.035201  0.035277  AGGRESSIVE   \n",
       "...        ...       ...       ...       ...       ...       ...         ...   \n",
       "3079 -0.713858 -0.652975 -0.164015 -0.147829 -1.309466  0.517250        SLOW   \n",
       "3080  1.514261  0.330070  1.020714  1.321302  1.707598 -0.674548        SLOW   \n",
       "3081  1.280216 -1.735172 -2.332695  0.583376  0.690507 -0.468075        SLOW   \n",
       "3082  0.912313  0.583314 -0.965622  0.235794  0.512745  0.406073        SLOW   \n",
       "3083  1.462172  0.190287  0.019377 -0.254731 -0.279547  0.076205        SLOW   \n",
       "\n",
       "      Timestamp  \n",
       "0        818922  \n",
       "1        818923  \n",
       "2        818923  \n",
       "3        818924  \n",
       "4        818924  \n",
       "...         ...  \n",
       "3079     820706  \n",
       "3080     820707  \n",
       "3081     820707  \n",
       "3082     820708  \n",
       "3083     820709  \n",
       "\n",
       "[3084 rows x 8 columns]"
      ]
     },
     "execution_count": 34,
     "metadata": {},
     "output_type": "execute_result"
    }
   ],
   "source": [
    "df_test"
   ]
  },
  {
   "cell_type": "code",
   "execution_count": 9,
   "id": "1cb9ebca",
   "metadata": {},
   "outputs": [],
   "source": [
    "df_train['Class'] = df_train['Class'].replace({'SLOW':0,'NORMAL':1,'AGGRESSIVE':2})"
   ]
  },
  {
   "cell_type": "code",
   "execution_count": 10,
   "id": "6ecdfb04",
   "metadata": {},
   "outputs": [],
   "source": [
    "df_test['Class'] = df_test['Class'].replace({'SLOW':0,'NORMAL':1,'AGGRESSIVE':2})"
   ]
  },
  {
   "cell_type": "code",
   "execution_count": 11,
   "id": "54d4e06e",
   "metadata": {},
   "outputs": [
    {
     "data": {
      "text/html": [
       "<div>\n",
       "<style scoped>\n",
       "    .dataframe tbody tr th:only-of-type {\n",
       "        vertical-align: middle;\n",
       "    }\n",
       "\n",
       "    .dataframe tbody tr th {\n",
       "        vertical-align: top;\n",
       "    }\n",
       "\n",
       "    .dataframe thead th {\n",
       "        text-align: right;\n",
       "    }\n",
       "</style>\n",
       "<table border=\"1\" class=\"dataframe\">\n",
       "  <thead>\n",
       "    <tr style=\"text-align: right;\">\n",
       "      <th></th>\n",
       "      <th>AccX</th>\n",
       "      <th>AccY</th>\n",
       "      <th>AccZ</th>\n",
       "      <th>GyroX</th>\n",
       "      <th>GyroY</th>\n",
       "      <th>GyroZ</th>\n",
       "      <th>Class</th>\n",
       "      <th>Timestamp</th>\n",
       "    </tr>\n",
       "  </thead>\n",
       "  <tbody>\n",
       "    <tr>\n",
       "      <th>0</th>\n",
       "      <td>0.000000</td>\n",
       "      <td>0.000000</td>\n",
       "      <td>0.000000</td>\n",
       "      <td>0.059407</td>\n",
       "      <td>-0.174707</td>\n",
       "      <td>0.101938</td>\n",
       "      <td>1</td>\n",
       "      <td>3581629</td>\n",
       "    </tr>\n",
       "    <tr>\n",
       "      <th>1</th>\n",
       "      <td>-1.624864</td>\n",
       "      <td>-1.082492</td>\n",
       "      <td>-0.204183</td>\n",
       "      <td>-0.028558</td>\n",
       "      <td>0.051313</td>\n",
       "      <td>0.135536</td>\n",
       "      <td>1</td>\n",
       "      <td>3581630</td>\n",
       "    </tr>\n",
       "    <tr>\n",
       "      <th>2</th>\n",
       "      <td>-0.594660</td>\n",
       "      <td>-0.122410</td>\n",
       "      <td>0.220502</td>\n",
       "      <td>-0.019395</td>\n",
       "      <td>-0.029322</td>\n",
       "      <td>0.087888</td>\n",
       "      <td>1</td>\n",
       "      <td>3581630</td>\n",
       "    </tr>\n",
       "    <tr>\n",
       "      <th>3</th>\n",
       "      <td>0.738478</td>\n",
       "      <td>-0.228456</td>\n",
       "      <td>0.667732</td>\n",
       "      <td>0.069791</td>\n",
       "      <td>-0.029932</td>\n",
       "      <td>0.054902</td>\n",
       "      <td>1</td>\n",
       "      <td>3581631</td>\n",
       "    </tr>\n",
       "    <tr>\n",
       "      <th>4</th>\n",
       "      <td>0.101741</td>\n",
       "      <td>0.777568</td>\n",
       "      <td>-0.066730</td>\n",
       "      <td>0.030696</td>\n",
       "      <td>-0.003665</td>\n",
       "      <td>0.054902</td>\n",
       "      <td>1</td>\n",
       "      <td>3581631</td>\n",
       "    </tr>\n",
       "    <tr>\n",
       "      <th>...</th>\n",
       "      <td>...</td>\n",
       "      <td>...</td>\n",
       "      <td>...</td>\n",
       "      <td>...</td>\n",
       "      <td>...</td>\n",
       "      <td>...</td>\n",
       "      <td>...</td>\n",
       "      <td>...</td>\n",
       "    </tr>\n",
       "    <tr>\n",
       "      <th>3639</th>\n",
       "      <td>0.915688</td>\n",
       "      <td>-2.017489</td>\n",
       "      <td>1.687505</td>\n",
       "      <td>0.450360</td>\n",
       "      <td>0.384845</td>\n",
       "      <td>-1.236468</td>\n",
       "      <td>0</td>\n",
       "      <td>3583789</td>\n",
       "    </tr>\n",
       "    <tr>\n",
       "      <th>3640</th>\n",
       "      <td>-1.934203</td>\n",
       "      <td>0.914925</td>\n",
       "      <td>-0.096013</td>\n",
       "      <td>0.321468</td>\n",
       "      <td>0.649350</td>\n",
       "      <td>-0.477162</td>\n",
       "      <td>0</td>\n",
       "      <td>3583790</td>\n",
       "    </tr>\n",
       "    <tr>\n",
       "      <th>3641</th>\n",
       "      <td>-0.222845</td>\n",
       "      <td>0.747304</td>\n",
       "      <td>-0.887430</td>\n",
       "      <td>0.361174</td>\n",
       "      <td>-0.406836</td>\n",
       "      <td>0.054291</td>\n",
       "      <td>0</td>\n",
       "      <td>3583790</td>\n",
       "    </tr>\n",
       "    <tr>\n",
       "      <th>3642</th>\n",
       "      <td>-0.349423</td>\n",
       "      <td>0.067261</td>\n",
       "      <td>0.394368</td>\n",
       "      <td>-0.132405</td>\n",
       "      <td>0.020159</td>\n",
       "      <td>-0.004963</td>\n",
       "      <td>0</td>\n",
       "      <td>3583791</td>\n",
       "    </tr>\n",
       "    <tr>\n",
       "      <th>3643</th>\n",
       "      <td>-0.402428</td>\n",
       "      <td>0.406218</td>\n",
       "      <td>-0.423009</td>\n",
       "      <td>-0.053603</td>\n",
       "      <td>-0.006720</td>\n",
       "      <td>0.001145</td>\n",
       "      <td>0</td>\n",
       "      <td>3583791</td>\n",
       "    </tr>\n",
       "  </tbody>\n",
       "</table>\n",
       "<p>3644 rows × 8 columns</p>\n",
       "</div>"
      ],
      "text/plain": [
       "          AccX      AccY      AccZ     GyroX     GyroY     GyroZ  Class  \\\n",
       "0     0.000000  0.000000  0.000000  0.059407 -0.174707  0.101938      1   \n",
       "1    -1.624864 -1.082492 -0.204183 -0.028558  0.051313  0.135536      1   \n",
       "2    -0.594660 -0.122410  0.220502 -0.019395 -0.029322  0.087888      1   \n",
       "3     0.738478 -0.228456  0.667732  0.069791 -0.029932  0.054902      1   \n",
       "4     0.101741  0.777568 -0.066730  0.030696 -0.003665  0.054902      1   \n",
       "...        ...       ...       ...       ...       ...       ...    ...   \n",
       "3639  0.915688 -2.017489  1.687505  0.450360  0.384845 -1.236468      0   \n",
       "3640 -1.934203  0.914925 -0.096013  0.321468  0.649350 -0.477162      0   \n",
       "3641 -0.222845  0.747304 -0.887430  0.361174 -0.406836  0.054291      0   \n",
       "3642 -0.349423  0.067261  0.394368 -0.132405  0.020159 -0.004963      0   \n",
       "3643 -0.402428  0.406218 -0.423009 -0.053603 -0.006720  0.001145      0   \n",
       "\n",
       "      Timestamp  \n",
       "0       3581629  \n",
       "1       3581630  \n",
       "2       3581630  \n",
       "3       3581631  \n",
       "4       3581631  \n",
       "...         ...  \n",
       "3639    3583789  \n",
       "3640    3583790  \n",
       "3641    3583790  \n",
       "3642    3583791  \n",
       "3643    3583791  \n",
       "\n",
       "[3644 rows x 8 columns]"
      ]
     },
     "execution_count": 11,
     "metadata": {},
     "output_type": "execute_result"
    }
   ],
   "source": [
    "df_train"
   ]
  },
  {
   "cell_type": "code",
   "execution_count": 12,
   "id": "93fef6ef",
   "metadata": {},
   "outputs": [
    {
     "data": {
      "text/html": [
       "<div>\n",
       "<style scoped>\n",
       "    .dataframe tbody tr th:only-of-type {\n",
       "        vertical-align: middle;\n",
       "    }\n",
       "\n",
       "    .dataframe tbody tr th {\n",
       "        vertical-align: top;\n",
       "    }\n",
       "\n",
       "    .dataframe thead th {\n",
       "        text-align: right;\n",
       "    }\n",
       "</style>\n",
       "<table border=\"1\" class=\"dataframe\">\n",
       "  <thead>\n",
       "    <tr style=\"text-align: right;\">\n",
       "      <th></th>\n",
       "      <th>AccX</th>\n",
       "      <th>AccY</th>\n",
       "      <th>AccZ</th>\n",
       "      <th>GyroX</th>\n",
       "      <th>GyroY</th>\n",
       "      <th>GyroZ</th>\n",
       "      <th>Class</th>\n",
       "      <th>Timestamp</th>\n",
       "    </tr>\n",
       "  </thead>\n",
       "  <tbody>\n",
       "    <tr>\n",
       "      <th>0</th>\n",
       "      <td>0.758194</td>\n",
       "      <td>-0.217791</td>\n",
       "      <td>0.457263</td>\n",
       "      <td>0.000000</td>\n",
       "      <td>0.000000</td>\n",
       "      <td>0.000000</td>\n",
       "      <td>2</td>\n",
       "      <td>818922</td>\n",
       "    </tr>\n",
       "    <tr>\n",
       "      <th>1</th>\n",
       "      <td>0.667560</td>\n",
       "      <td>-0.038610</td>\n",
       "      <td>0.231416</td>\n",
       "      <td>-0.054367</td>\n",
       "      <td>-0.007712</td>\n",
       "      <td>0.225257</td>\n",
       "      <td>2</td>\n",
       "      <td>818923</td>\n",
       "    </tr>\n",
       "    <tr>\n",
       "      <th>2</th>\n",
       "      <td>2.724449</td>\n",
       "      <td>-7.584121</td>\n",
       "      <td>2.390926</td>\n",
       "      <td>0.023824</td>\n",
       "      <td>0.013668</td>\n",
       "      <td>-0.038026</td>\n",
       "      <td>2</td>\n",
       "      <td>818923</td>\n",
       "    </tr>\n",
       "    <tr>\n",
       "      <th>3</th>\n",
       "      <td>2.330950</td>\n",
       "      <td>-7.621754</td>\n",
       "      <td>2.529024</td>\n",
       "      <td>0.056810</td>\n",
       "      <td>-0.180587</td>\n",
       "      <td>-0.052076</td>\n",
       "      <td>2</td>\n",
       "      <td>818924</td>\n",
       "    </tr>\n",
       "    <tr>\n",
       "      <th>4</th>\n",
       "      <td>2.847215</td>\n",
       "      <td>-6.755621</td>\n",
       "      <td>2.224640</td>\n",
       "      <td>-0.031765</td>\n",
       "      <td>-0.035201</td>\n",
       "      <td>0.035277</td>\n",
       "      <td>2</td>\n",
       "      <td>818924</td>\n",
       "    </tr>\n",
       "    <tr>\n",
       "      <th>...</th>\n",
       "      <td>...</td>\n",
       "      <td>...</td>\n",
       "      <td>...</td>\n",
       "      <td>...</td>\n",
       "      <td>...</td>\n",
       "      <td>...</td>\n",
       "      <td>...</td>\n",
       "      <td>...</td>\n",
       "    </tr>\n",
       "    <tr>\n",
       "      <th>3079</th>\n",
       "      <td>-0.713858</td>\n",
       "      <td>-0.652975</td>\n",
       "      <td>-0.164015</td>\n",
       "      <td>-0.147829</td>\n",
       "      <td>-1.309466</td>\n",
       "      <td>0.517250</td>\n",
       "      <td>0</td>\n",
       "      <td>820706</td>\n",
       "    </tr>\n",
       "    <tr>\n",
       "      <th>3080</th>\n",
       "      <td>1.514261</td>\n",
       "      <td>0.330070</td>\n",
       "      <td>1.020714</td>\n",
       "      <td>1.321302</td>\n",
       "      <td>1.707598</td>\n",
       "      <td>-0.674548</td>\n",
       "      <td>0</td>\n",
       "      <td>820707</td>\n",
       "    </tr>\n",
       "    <tr>\n",
       "      <th>3081</th>\n",
       "      <td>1.280216</td>\n",
       "      <td>-1.735172</td>\n",
       "      <td>-2.332695</td>\n",
       "      <td>0.583376</td>\n",
       "      <td>0.690507</td>\n",
       "      <td>-0.468075</td>\n",
       "      <td>0</td>\n",
       "      <td>820707</td>\n",
       "    </tr>\n",
       "    <tr>\n",
       "      <th>3082</th>\n",
       "      <td>0.912313</td>\n",
       "      <td>0.583314</td>\n",
       "      <td>-0.965622</td>\n",
       "      <td>0.235794</td>\n",
       "      <td>0.512745</td>\n",
       "      <td>0.406073</td>\n",
       "      <td>0</td>\n",
       "      <td>820708</td>\n",
       "    </tr>\n",
       "    <tr>\n",
       "      <th>3083</th>\n",
       "      <td>1.462172</td>\n",
       "      <td>0.190287</td>\n",
       "      <td>0.019377</td>\n",
       "      <td>-0.254731</td>\n",
       "      <td>-0.279547</td>\n",
       "      <td>0.076205</td>\n",
       "      <td>0</td>\n",
       "      <td>820709</td>\n",
       "    </tr>\n",
       "  </tbody>\n",
       "</table>\n",
       "<p>3084 rows × 8 columns</p>\n",
       "</div>"
      ],
      "text/plain": [
       "          AccX      AccY      AccZ     GyroX     GyroY     GyroZ  Class  \\\n",
       "0     0.758194 -0.217791  0.457263  0.000000  0.000000  0.000000      2   \n",
       "1     0.667560 -0.038610  0.231416 -0.054367 -0.007712  0.225257      2   \n",
       "2     2.724449 -7.584121  2.390926  0.023824  0.013668 -0.038026      2   \n",
       "3     2.330950 -7.621754  2.529024  0.056810 -0.180587 -0.052076      2   \n",
       "4     2.847215 -6.755621  2.224640 -0.031765 -0.035201  0.035277      2   \n",
       "...        ...       ...       ...       ...       ...       ...    ...   \n",
       "3079 -0.713858 -0.652975 -0.164015 -0.147829 -1.309466  0.517250      0   \n",
       "3080  1.514261  0.330070  1.020714  1.321302  1.707598 -0.674548      0   \n",
       "3081  1.280216 -1.735172 -2.332695  0.583376  0.690507 -0.468075      0   \n",
       "3082  0.912313  0.583314 -0.965622  0.235794  0.512745  0.406073      0   \n",
       "3083  1.462172  0.190287  0.019377 -0.254731 -0.279547  0.076205      0   \n",
       "\n",
       "      Timestamp  \n",
       "0        818922  \n",
       "1        818923  \n",
       "2        818923  \n",
       "3        818924  \n",
       "4        818924  \n",
       "...         ...  \n",
       "3079     820706  \n",
       "3080     820707  \n",
       "3081     820707  \n",
       "3082     820708  \n",
       "3083     820709  \n",
       "\n",
       "[3084 rows x 8 columns]"
      ]
     },
     "execution_count": 12,
     "metadata": {},
     "output_type": "execute_result"
    }
   ],
   "source": [
    "df_test"
   ]
  },
  {
   "cell_type": "markdown",
   "id": "88ce88f6",
   "metadata": {},
   "source": [
    "### Merging both Train and Test DataFrames:"
   ]
  },
  {
   "cell_type": "code",
   "execution_count": 13,
   "id": "50b54dae",
   "metadata": {},
   "outputs": [],
   "source": [
    "df = pd.concat([df_train,df_test])"
   ]
  },
  {
   "cell_type": "code",
   "execution_count": 14,
   "id": "ec794236",
   "metadata": {},
   "outputs": [
    {
     "data": {
      "text/html": [
       "<div>\n",
       "<style scoped>\n",
       "    .dataframe tbody tr th:only-of-type {\n",
       "        vertical-align: middle;\n",
       "    }\n",
       "\n",
       "    .dataframe tbody tr th {\n",
       "        vertical-align: top;\n",
       "    }\n",
       "\n",
       "    .dataframe thead th {\n",
       "        text-align: right;\n",
       "    }\n",
       "</style>\n",
       "<table border=\"1\" class=\"dataframe\">\n",
       "  <thead>\n",
       "    <tr style=\"text-align: right;\">\n",
       "      <th></th>\n",
       "      <th>AccX</th>\n",
       "      <th>AccY</th>\n",
       "      <th>AccZ</th>\n",
       "      <th>GyroX</th>\n",
       "      <th>GyroY</th>\n",
       "      <th>GyroZ</th>\n",
       "      <th>Class</th>\n",
       "      <th>Timestamp</th>\n",
       "    </tr>\n",
       "  </thead>\n",
       "  <tbody>\n",
       "    <tr>\n",
       "      <th>0</th>\n",
       "      <td>0.000000</td>\n",
       "      <td>0.000000</td>\n",
       "      <td>0.000000</td>\n",
       "      <td>0.059407</td>\n",
       "      <td>-0.174707</td>\n",
       "      <td>0.101938</td>\n",
       "      <td>1</td>\n",
       "      <td>3581629</td>\n",
       "    </tr>\n",
       "    <tr>\n",
       "      <th>1</th>\n",
       "      <td>-1.624864</td>\n",
       "      <td>-1.082492</td>\n",
       "      <td>-0.204183</td>\n",
       "      <td>-0.028558</td>\n",
       "      <td>0.051313</td>\n",
       "      <td>0.135536</td>\n",
       "      <td>1</td>\n",
       "      <td>3581630</td>\n",
       "    </tr>\n",
       "    <tr>\n",
       "      <th>2</th>\n",
       "      <td>-0.594660</td>\n",
       "      <td>-0.122410</td>\n",
       "      <td>0.220502</td>\n",
       "      <td>-0.019395</td>\n",
       "      <td>-0.029322</td>\n",
       "      <td>0.087888</td>\n",
       "      <td>1</td>\n",
       "      <td>3581630</td>\n",
       "    </tr>\n",
       "    <tr>\n",
       "      <th>3</th>\n",
       "      <td>0.738478</td>\n",
       "      <td>-0.228456</td>\n",
       "      <td>0.667732</td>\n",
       "      <td>0.069791</td>\n",
       "      <td>-0.029932</td>\n",
       "      <td>0.054902</td>\n",
       "      <td>1</td>\n",
       "      <td>3581631</td>\n",
       "    </tr>\n",
       "    <tr>\n",
       "      <th>4</th>\n",
       "      <td>0.101741</td>\n",
       "      <td>0.777568</td>\n",
       "      <td>-0.066730</td>\n",
       "      <td>0.030696</td>\n",
       "      <td>-0.003665</td>\n",
       "      <td>0.054902</td>\n",
       "      <td>1</td>\n",
       "      <td>3581631</td>\n",
       "    </tr>\n",
       "    <tr>\n",
       "      <th>...</th>\n",
       "      <td>...</td>\n",
       "      <td>...</td>\n",
       "      <td>...</td>\n",
       "      <td>...</td>\n",
       "      <td>...</td>\n",
       "      <td>...</td>\n",
       "      <td>...</td>\n",
       "      <td>...</td>\n",
       "    </tr>\n",
       "    <tr>\n",
       "      <th>3079</th>\n",
       "      <td>-0.713858</td>\n",
       "      <td>-0.652975</td>\n",
       "      <td>-0.164015</td>\n",
       "      <td>-0.147829</td>\n",
       "      <td>-1.309466</td>\n",
       "      <td>0.517250</td>\n",
       "      <td>0</td>\n",
       "      <td>820706</td>\n",
       "    </tr>\n",
       "    <tr>\n",
       "      <th>3080</th>\n",
       "      <td>1.514261</td>\n",
       "      <td>0.330070</td>\n",
       "      <td>1.020714</td>\n",
       "      <td>1.321302</td>\n",
       "      <td>1.707598</td>\n",
       "      <td>-0.674548</td>\n",
       "      <td>0</td>\n",
       "      <td>820707</td>\n",
       "    </tr>\n",
       "    <tr>\n",
       "      <th>3081</th>\n",
       "      <td>1.280216</td>\n",
       "      <td>-1.735172</td>\n",
       "      <td>-2.332695</td>\n",
       "      <td>0.583376</td>\n",
       "      <td>0.690507</td>\n",
       "      <td>-0.468075</td>\n",
       "      <td>0</td>\n",
       "      <td>820707</td>\n",
       "    </tr>\n",
       "    <tr>\n",
       "      <th>3082</th>\n",
       "      <td>0.912313</td>\n",
       "      <td>0.583314</td>\n",
       "      <td>-0.965622</td>\n",
       "      <td>0.235794</td>\n",
       "      <td>0.512745</td>\n",
       "      <td>0.406073</td>\n",
       "      <td>0</td>\n",
       "      <td>820708</td>\n",
       "    </tr>\n",
       "    <tr>\n",
       "      <th>3083</th>\n",
       "      <td>1.462172</td>\n",
       "      <td>0.190287</td>\n",
       "      <td>0.019377</td>\n",
       "      <td>-0.254731</td>\n",
       "      <td>-0.279547</td>\n",
       "      <td>0.076205</td>\n",
       "      <td>0</td>\n",
       "      <td>820709</td>\n",
       "    </tr>\n",
       "  </tbody>\n",
       "</table>\n",
       "<p>6728 rows × 8 columns</p>\n",
       "</div>"
      ],
      "text/plain": [
       "          AccX      AccY      AccZ     GyroX     GyroY     GyroZ  Class  \\\n",
       "0     0.000000  0.000000  0.000000  0.059407 -0.174707  0.101938      1   \n",
       "1    -1.624864 -1.082492 -0.204183 -0.028558  0.051313  0.135536      1   \n",
       "2    -0.594660 -0.122410  0.220502 -0.019395 -0.029322  0.087888      1   \n",
       "3     0.738478 -0.228456  0.667732  0.069791 -0.029932  0.054902      1   \n",
       "4     0.101741  0.777568 -0.066730  0.030696 -0.003665  0.054902      1   \n",
       "...        ...       ...       ...       ...       ...       ...    ...   \n",
       "3079 -0.713858 -0.652975 -0.164015 -0.147829 -1.309466  0.517250      0   \n",
       "3080  1.514261  0.330070  1.020714  1.321302  1.707598 -0.674548      0   \n",
       "3081  1.280216 -1.735172 -2.332695  0.583376  0.690507 -0.468075      0   \n",
       "3082  0.912313  0.583314 -0.965622  0.235794  0.512745  0.406073      0   \n",
       "3083  1.462172  0.190287  0.019377 -0.254731 -0.279547  0.076205      0   \n",
       "\n",
       "      Timestamp  \n",
       "0       3581629  \n",
       "1       3581630  \n",
       "2       3581630  \n",
       "3       3581631  \n",
       "4       3581631  \n",
       "...         ...  \n",
       "3079     820706  \n",
       "3080     820707  \n",
       "3081     820707  \n",
       "3082     820708  \n",
       "3083     820709  \n",
       "\n",
       "[6728 rows x 8 columns]"
      ]
     },
     "execution_count": 14,
     "metadata": {},
     "output_type": "execute_result"
    }
   ],
   "source": [
    "df"
   ]
  },
  {
   "cell_type": "code",
   "execution_count": 15,
   "id": "39fb661a",
   "metadata": {},
   "outputs": [],
   "source": [
    "df.to_csv(\"Final_df1.csv\")"
   ]
  },
  {
   "cell_type": "code",
   "execution_count": 16,
   "id": "44336bf7",
   "metadata": {},
   "outputs": [
    {
     "data": {
      "text/html": [
       "<div>\n",
       "<style scoped>\n",
       "    .dataframe tbody tr th:only-of-type {\n",
       "        vertical-align: middle;\n",
       "    }\n",
       "\n",
       "    .dataframe tbody tr th {\n",
       "        vertical-align: top;\n",
       "    }\n",
       "\n",
       "    .dataframe thead th {\n",
       "        text-align: right;\n",
       "    }\n",
       "</style>\n",
       "<table border=\"1\" class=\"dataframe\">\n",
       "  <thead>\n",
       "    <tr style=\"text-align: right;\">\n",
       "      <th></th>\n",
       "      <th>AccX</th>\n",
       "      <th>AccY</th>\n",
       "      <th>AccZ</th>\n",
       "      <th>GyroX</th>\n",
       "      <th>GyroY</th>\n",
       "      <th>GyroZ</th>\n",
       "      <th>Class</th>\n",
       "      <th>Timestamp</th>\n",
       "    </tr>\n",
       "  </thead>\n",
       "  <tbody>\n",
       "    <tr>\n",
       "      <th>0</th>\n",
       "      <td>0.000000</td>\n",
       "      <td>0.000000</td>\n",
       "      <td>0.000000</td>\n",
       "      <td>0.059407</td>\n",
       "      <td>-0.174707</td>\n",
       "      <td>0.101938</td>\n",
       "      <td>1</td>\n",
       "      <td>3581629</td>\n",
       "    </tr>\n",
       "    <tr>\n",
       "      <th>1</th>\n",
       "      <td>-1.624864</td>\n",
       "      <td>-1.082492</td>\n",
       "      <td>-0.204183</td>\n",
       "      <td>-0.028558</td>\n",
       "      <td>0.051313</td>\n",
       "      <td>0.135536</td>\n",
       "      <td>1</td>\n",
       "      <td>3581630</td>\n",
       "    </tr>\n",
       "    <tr>\n",
       "      <th>2</th>\n",
       "      <td>-0.594660</td>\n",
       "      <td>-0.122410</td>\n",
       "      <td>0.220502</td>\n",
       "      <td>-0.019395</td>\n",
       "      <td>-0.029322</td>\n",
       "      <td>0.087888</td>\n",
       "      <td>1</td>\n",
       "      <td>3581630</td>\n",
       "    </tr>\n",
       "    <tr>\n",
       "      <th>3</th>\n",
       "      <td>0.738478</td>\n",
       "      <td>-0.228456</td>\n",
       "      <td>0.667732</td>\n",
       "      <td>0.069791</td>\n",
       "      <td>-0.029932</td>\n",
       "      <td>0.054902</td>\n",
       "      <td>1</td>\n",
       "      <td>3581631</td>\n",
       "    </tr>\n",
       "    <tr>\n",
       "      <th>4</th>\n",
       "      <td>0.101741</td>\n",
       "      <td>0.777568</td>\n",
       "      <td>-0.066730</td>\n",
       "      <td>0.030696</td>\n",
       "      <td>-0.003665</td>\n",
       "      <td>0.054902</td>\n",
       "      <td>1</td>\n",
       "      <td>3581631</td>\n",
       "    </tr>\n",
       "  </tbody>\n",
       "</table>\n",
       "</div>"
      ],
      "text/plain": [
       "       AccX      AccY      AccZ     GyroX     GyroY     GyroZ  Class  \\\n",
       "0  0.000000  0.000000  0.000000  0.059407 -0.174707  0.101938      1   \n",
       "1 -1.624864 -1.082492 -0.204183 -0.028558  0.051313  0.135536      1   \n",
       "2 -0.594660 -0.122410  0.220502 -0.019395 -0.029322  0.087888      1   \n",
       "3  0.738478 -0.228456  0.667732  0.069791 -0.029932  0.054902      1   \n",
       "4  0.101741  0.777568 -0.066730  0.030696 -0.003665  0.054902      1   \n",
       "\n",
       "   Timestamp  \n",
       "0    3581629  \n",
       "1    3581630  \n",
       "2    3581630  \n",
       "3    3581631  \n",
       "4    3581631  "
      ]
     },
     "execution_count": 16,
     "metadata": {},
     "output_type": "execute_result"
    }
   ],
   "source": [
    "pd.read_csv(\"C:/Users/USER/Downloads/Final_df1.csv\")\n",
    "df.head()"
   ]
  },
  {
   "cell_type": "markdown",
   "id": "8f34b4c8",
   "metadata": {},
   "source": [
    "### Checking the Outliers:"
   ]
  },
  {
   "cell_type": "code",
   "execution_count": 25,
   "id": "e925cbfa",
   "metadata": {},
   "outputs": [
    {
     "data": {
      "image/png": "[encoded data removed]",
      "text/plain": [
       "<Figure size 1500x1000 with 8 Axes>"
      ]
     },
     "metadata": {},
     "output_type": "display_data"
    }
   ],
   "source": [
    "plt.figure(figsize=(15,10))\n",
    "for i,j in enumerate(df.columns):\n",
    "    plt.subplot(3,3,i+1)\n",
    "    sns.boxplot(x=df[j])"
   ]
  },
  {
   "cell_type": "markdown",
   "id": "dc801a94",
   "metadata": {},
   "source": [
    "## Outlier treatment using Inter Quartile Range(IQR)"
   ]
  },
  {
   "cell_type": "code",
   "execution_count": 26,
   "id": "b567aa38",
   "metadata": {},
   "outputs": [],
   "source": [
    "Q1=df[\"AccX\"].quantile(0.25)\n",
    "Q3=df[\"AccX\"].quantile(0.75)\n",
    "IQR=Q3 - Q1\n",
    "lower_bound=Q1 - 1.5 * IQR\n",
    "upper_bound=Q3 + 1.5 * IQR\n",
    "\n",
    "\n",
    "new_AccX=[]\n",
    "for i in df[\"AccX\"]:\n",
    "    if  (i>upper_bound):\n",
    "           new_AccX.append(upper_bound)\n",
    "    elif (i<lower_bound):\n",
    "        new_AccX.append(lower_bound)\n",
    "    else:\n",
    "         new_AccX.append(i)\n",
    "\n",
    "df[\"AccX\"]=new_AccX"
   ]
  },
  {
   "cell_type": "code",
   "execution_count": 27,
   "id": "9ae2d1b3",
   "metadata": {},
   "outputs": [
    {
     "data": {
      "text/plain": [
       "<AxesSubplot:xlabel='AccX'>"
      ]
     },
     "execution_count": 27,
     "metadata": {},
     "output_type": "execute_result"
    },
    {
     "data": {
      "image/png": "[encoded data removed]",
      "text/plain": [
       "<Figure size 500x300 with 1 Axes>"
      ]
     },
     "metadata": {},
     "output_type": "display_data"
    }
   ],
   "source": [
    "plt.figure(figsize=(5,3))\n",
    "sns.boxplot(df[\"AccX\"])"
   ]
  },
  {
   "cell_type": "code",
   "execution_count": 28,
   "id": "e8d903d3",
   "metadata": {},
   "outputs": [],
   "source": [
    "Q1=df[\"AccY\"].quantile(0.25)\n",
    "Q3=df[\"AccY\"].quantile(0.75)\n",
    "IQR=Q3 - Q1\n",
    "lower_bound=Q1 - 1.5 * IQR\n",
    "upper_bound=Q3 + 1.5 * IQR\n",
    "\n",
    "\n",
    "new_AccY=[]\n",
    "for i in df[\"AccY\"]:\n",
    "    if  (i>upper_bound):\n",
    "           new_AccY.append(upper_bound)\n",
    "    elif (i<lower_bound):\n",
    "        new_AccY.append(lower_bound)\n",
    "    else:\n",
    "         new_AccY.append(i)\n",
    "\n",
    "df[\"AccY\"]=new_AccY"
   ]
  },
  {
   "cell_type": "code",
   "execution_count": 29,
   "id": "2b60997d",
   "metadata": {},
   "outputs": [
    {
     "data": {
      "text/plain": [
       "<AxesSubplot:xlabel='AccY'>"
      ]
     },
     "execution_count": 29,
     "metadata": {},
     "output_type": "execute_result"
    },
    {
     "data": {
      "image/png": "[encoded data removed]",
      "text/plain": [
       "<Figure size 500x300 with 1 Axes>"
      ]
     },
     "metadata": {},
     "output_type": "display_data"
    }
   ],
   "source": [
    "plt.figure(figsize=(5,3))\n",
    "sns.boxplot(df[\"AccY\"])"
   ]
  },
  {
   "cell_type": "code",
   "execution_count": 30,
   "id": "67213168",
   "metadata": {},
   "outputs": [],
   "source": [
    "Q1=df[\"AccZ\"].quantile(0.25)\n",
    "Q3=df[\"AccZ\"].quantile(0.75)\n",
    "IQR=Q3 - Q1\n",
    "lower_bound=Q1 - 1.5 * IQR\n",
    "upper_bound=Q3 + 1.5 * IQR\n",
    "\n",
    "\n",
    "new_AccZ=[]\n",
    "for i in df[\"AccZ\"]:\n",
    "    if  (i>upper_bound):\n",
    "           new_AccZ.append(upper_bound)\n",
    "    elif (i<lower_bound):\n",
    "          new_AccZ.append(lower_bound)\n",
    "    else:\n",
    "         new_AccZ.append(i)\n",
    "\n",
    "df[\"AccZ\"] = new_AccZ"
   ]
  },
  {
   "cell_type": "code",
   "execution_count": 31,
   "id": "66de146d",
   "metadata": {},
   "outputs": [
    {
     "data": {
      "text/plain": [
       "<AxesSubplot:xlabel='AccZ'>"
      ]
     },
     "execution_count": 31,
     "metadata": {},
     "output_type": "execute_result"
    },
    {
     "data": {
      "image/png": "[encoded data removed]",
      "text/plain": [
       "<Figure size 500x300 with 1 Axes>"
      ]
     },
     "metadata": {},
     "output_type": "display_data"
    }
   ],
   "source": [
    "plt.figure(figsize=(5,3))\n",
    "sns.boxplot(df[\"AccZ\"])"
   ]
  },
  {
   "cell_type": "code",
   "execution_count": 32,
   "id": "9d6048d5",
   "metadata": {},
   "outputs": [],
   "source": [
    "Q1=df[\"GyroX\"].quantile(0.25)\n",
    "Q3=df[\"GyroX\"].quantile(0.75)\n",
    "IQR=Q3 - Q1\n",
    "lower_bound=Q1 - 1.5 * IQR\n",
    "upper_bound=Q3 + 1.5 * IQR\n",
    "\n",
    "\n",
    "new_GyroX=[]\n",
    "for i in df[\"GyroX\"]:\n",
    "    if  (i>upper_bound):\n",
    "           new_GyroX.append(upper_bound)\n",
    "    elif (i<lower_bound):\n",
    "          new_GyroX.append(lower_bound)\n",
    "    else:\n",
    "         new_GyroX.append(i)\n",
    "\n",
    "df[\"GyroX\"] = new_GyroX"
   ]
  },
  {
   "cell_type": "code",
   "execution_count": 33,
   "id": "6a201c75",
   "metadata": {},
   "outputs": [
    {
     "data": {
      "text/plain": [
       "<AxesSubplot:xlabel='GyroX'>"
      ]
     },
     "execution_count": 33,
     "metadata": {},
     "output_type": "execute_result"
    },
    {
     "data": {
      "image/png": "[encoded data removed]",
      "text/plain": [
       "<Figure size 500x300 with 1 Axes>"
      ]
     },
     "metadata": {},
     "output_type": "display_data"
    }
   ],
   "source": [
    "plt.figure(figsize=(5,3))\n",
    "sns.boxplot(df[\"GyroX\"])"
   ]
  },
  {
   "cell_type": "code",
   "execution_count": 34,
   "id": "48c22b71",
   "metadata": {},
   "outputs": [],
   "source": [
    "Q1=df[\"GyroY\"].quantile(0.25)\n",
    "Q3=df[\"GyroY\"].quantile(0.75)\n",
    "IQR=Q3 - Q1\n",
    "lower_bound=Q1 - 1.5 * IQR\n",
    "upper_bound=Q3 + 1.5 * IQR\n",
    "\n",
    "\n",
    "new_GyroY=[]\n",
    "for i in df[\"GyroY\"]:\n",
    "    if  (i>upper_bound):\n",
    "           new_GyroY.append(upper_bound)\n",
    "    elif (i<lower_bound):\n",
    "          new_GyroY.append(lower_bound)\n",
    "    else:\n",
    "         new_GyroY.append(i)\n",
    "\n",
    "df[\"GyroY\"] = new_GyroY"
   ]
  },
  {
   "cell_type": "code",
   "execution_count": 35,
   "id": "4ec81dbe",
   "metadata": {},
   "outputs": [
    {
     "data": {
      "text/plain": [
       "<AxesSubplot:xlabel='GyroY'>"
      ]
     },
     "execution_count": 35,
     "metadata": {},
     "output_type": "execute_result"
    },
    {
     "data": {
      "image/png": "[encoded data removed]",
      "text/plain": [
       "<Figure size 500x300 with 1 Axes>"
      ]
     },
     "metadata": {},
     "output_type": "display_data"
    }
   ],
   "source": [
    "plt.figure(figsize=(5,3))\n",
    "sns.boxplot(df[\"GyroY\"])"
   ]
  },
  {
   "cell_type": "code",
   "execution_count": 36,
   "id": "ee8ce20f",
   "metadata": {},
   "outputs": [],
   "source": [
    "Q1=df[\"GyroZ\"].quantile(0.25)\n",
    "Q3=df[\"GyroZ\"].quantile(0.75)\n",
    "IQR=Q3 - Q1\n",
    "lower_bound=Q1 - 1.5 * IQR\n",
    "upper_bound=Q3 + 1.5 * IQR\n",
    "\n",
    "\n",
    "new_GyroZ=[]\n",
    "for i in df[\"GyroZ\"]:\n",
    "    if  (i>upper_bound):\n",
    "           new_GyroZ.append(upper_bound)\n",
    "    elif (i<lower_bound):\n",
    "          new_GyroZ.append(lower_bound)\n",
    "    else:\n",
    "         new_GyroZ.append(i)\n",
    "\n",
    "df[\"GyroZ\"] = new_GyroZ"
   ]
  },
  {
   "cell_type": "code",
   "execution_count": 37,
   "id": "8da4a92d",
   "metadata": {},
   "outputs": [
    {
     "data": {
      "text/plain": [
       "<AxesSubplot:xlabel='GyroZ'>"
      ]
     },
     "execution_count": 37,
     "metadata": {},
     "output_type": "execute_result"
    },
    {
     "data": {
      "image/png": "[encoded data removed]",
      "text/plain": [
       "<Figure size 500x300 with 1 Axes>"
      ]
     },
     "metadata": {},
     "output_type": "display_data"
    }
   ],
   "source": [
    "plt.figure(figsize=(5,3))\n",
    "sns.boxplot(df[\"GyroZ\"])"
   ]
  },
  {
   "cell_type": "markdown",
   "id": "02b7985d",
   "metadata": {},
   "source": [
    "## Data Visualization:"
   ]
  },
  {
   "cell_type": "code",
   "execution_count": 38,
   "id": "0b930320",
   "metadata": {},
   "outputs": [
    {
     "data": {
      "text/html": [
       "<div>\n",
       "<style scoped>\n",
       "    .dataframe tbody tr th:only-of-type {\n",
       "        vertical-align: middle;\n",
       "    }\n",
       "\n",
       "    .dataframe tbody tr th {\n",
       "        vertical-align: top;\n",
       "    }\n",
       "\n",
       "    .dataframe thead th {\n",
       "        text-align: right;\n",
       "    }\n",
       "</style>\n",
       "<table border=\"1\" class=\"dataframe\">\n",
       "  <thead>\n",
       "    <tr style=\"text-align: right;\">\n",
       "      <th></th>\n",
       "      <th>AccX</th>\n",
       "      <th>AccY</th>\n",
       "      <th>AccZ</th>\n",
       "      <th>GyroX</th>\n",
       "      <th>GyroY</th>\n",
       "      <th>GyroZ</th>\n",
       "      <th>Class</th>\n",
       "      <th>Timestamp</th>\n",
       "    </tr>\n",
       "  </thead>\n",
       "  <tbody>\n",
       "    <tr>\n",
       "      <th>count</th>\n",
       "      <td>6728.000000</td>\n",
       "      <td>6728.000000</td>\n",
       "      <td>6728.000000</td>\n",
       "      <td>6728.000000</td>\n",
       "      <td>6728.000000</td>\n",
       "      <td>6728.000000</td>\n",
       "      <td>6728.000000</td>\n",
       "      <td>6.728000e+03</td>\n",
       "    </tr>\n",
       "    <tr>\n",
       "      <th>mean</th>\n",
       "      <td>0.062476</td>\n",
       "      <td>-0.093192</td>\n",
       "      <td>0.023807</td>\n",
       "      <td>0.001837</td>\n",
       "      <td>-0.001236</td>\n",
       "      <td>0.005395</td>\n",
       "      <td>0.899376</td>\n",
       "      <td>2.316251e+06</td>\n",
       "    </tr>\n",
       "    <tr>\n",
       "      <th>std</th>\n",
       "      <td>0.888250</td>\n",
       "      <td>0.837438</td>\n",
       "      <td>0.903009</td>\n",
       "      <td>0.049554</td>\n",
       "      <td>0.089193</td>\n",
       "      <td>0.067062</td>\n",
       "      <td>0.814511</td>\n",
       "      <td>1.376747e+06</td>\n",
       "    </tr>\n",
       "    <tr>\n",
       "      <th>min</th>\n",
       "      <td>-2.076977</td>\n",
       "      <td>-2.149121</td>\n",
       "      <td>-2.143724</td>\n",
       "      <td>-0.110796</td>\n",
       "      <td>-0.198569</td>\n",
       "      <td>-0.128129</td>\n",
       "      <td>0.000000</td>\n",
       "      <td>8.189220e+05</td>\n",
       "    </tr>\n",
       "    <tr>\n",
       "      <th>25%</th>\n",
       "      <td>-0.478331</td>\n",
       "      <td>-0.605450</td>\n",
       "      <td>-0.519489</td>\n",
       "      <td>-0.026267</td>\n",
       "      <td>-0.050702</td>\n",
       "      <td>-0.028253</td>\n",
       "      <td>0.000000</td>\n",
       "      <td>8.199088e+05</td>\n",
       "    </tr>\n",
       "    <tr>\n",
       "      <th>50%</th>\n",
       "      <td>0.029885</td>\n",
       "      <td>-0.087355</td>\n",
       "      <td>0.028696</td>\n",
       "      <td>0.001374</td>\n",
       "      <td>-0.001222</td>\n",
       "      <td>0.002367</td>\n",
       "      <td>1.000000</td>\n",
       "      <td>3.581780e+06</td>\n",
       "    </tr>\n",
       "    <tr>\n",
       "      <th>75%</th>\n",
       "      <td>0.587433</td>\n",
       "      <td>0.423664</td>\n",
       "      <td>0.563334</td>\n",
       "      <td>0.030085</td>\n",
       "      <td>0.047877</td>\n",
       "      <td>0.038332</td>\n",
       "      <td>2.000000</td>\n",
       "      <td>3.582777e+06</td>\n",
       "    </tr>\n",
       "    <tr>\n",
       "      <th>max</th>\n",
       "      <td>2.186078</td>\n",
       "      <td>1.967335</td>\n",
       "      <td>2.187569</td>\n",
       "      <td>0.114614</td>\n",
       "      <td>0.195744</td>\n",
       "      <td>0.138208</td>\n",
       "      <td>2.000000</td>\n",
       "      <td>3.583791e+06</td>\n",
       "    </tr>\n",
       "  </tbody>\n",
       "</table>\n",
       "</div>"
      ],
      "text/plain": [
       "              AccX         AccY         AccZ        GyroX        GyroY  \\\n",
       "count  6728.000000  6728.000000  6728.000000  6728.000000  6728.000000   \n",
       "mean      0.062476    -0.093192     0.023807     0.001837    -0.001236   \n",
       "std       0.888250     0.837438     0.903009     0.049554     0.089193   \n",
       "min      -2.076977    -2.149121    -2.143724    -0.110796    -0.198569   \n",
       "25%      -0.478331    -0.605450    -0.519489    -0.026267    -0.050702   \n",
       "50%       0.029885    -0.087355     0.028696     0.001374    -0.001222   \n",
       "75%       0.587433     0.423664     0.563334     0.030085     0.047877   \n",
       "max       2.186078     1.967335     2.187569     0.114614     0.195744   \n",
       "\n",
       "             GyroZ        Class     Timestamp  \n",
       "count  6728.000000  6728.000000  6.728000e+03  \n",
       "mean      0.005395     0.899376  2.316251e+06  \n",
       "std       0.067062     0.814511  1.376747e+06  \n",
       "min      -0.128129     0.000000  8.189220e+05  \n",
       "25%      -0.028253     0.000000  8.199088e+05  \n",
       "50%       0.002367     1.000000  3.581780e+06  \n",
       "75%       0.038332     2.000000  3.582777e+06  \n",
       "max       0.138208     2.000000  3.583791e+06  "
      ]
     },
     "execution_count": 38,
     "metadata": {},
     "output_type": "execute_result"
    }
   ],
   "source": [
    "df.describe(include=\"all\")"
   ]
  },
  {
   "cell_type": "markdown",
   "id": "ca9a1e67",
   "metadata": {},
   "source": [
    "#### Univariate analysis:"
   ]
  },
  {
   "cell_type": "code",
   "execution_count": 39,
   "id": "d056c146",
   "metadata": {},
   "outputs": [
    {
     "data": {
      "image/png": "[encoded data removed]",
      "text/plain": [
       "<Figure size 500x300 with 2 Axes>"
      ]
     },
     "metadata": {},
     "output_type": "display_data"
    }
   ],
   "source": [
    "# Checking the distribution (normal or skewed)\n",
    "\n",
    "plt.figure(figsize=(5,3))\n",
    "plt.subplot(121)\n",
    "sns.distplot(df[\"AccX\"],color = \"r\")\n",
    "plt.subplot(122)\n",
    "sns.distplot(df[\"Class\"])\n",
    "plt.show()\n"
   ]
  },
  {
   "cell_type": "code",
   "execution_count": 40,
   "id": "7458e67a",
   "metadata": {},
   "outputs": [
    {
     "data": {
      "image/png": "[encoded data removed]",
      "text/plain": [
       "<Figure size 500x300 with 1 Axes>"
      ]
     },
     "metadata": {},
     "output_type": "display_data"
    }
   ],
   "source": [
    "plt.figure(figsize=(5,3))\n",
    "sns.countplot(df[\"Class\"],color=\"blue\")\n",
    "plt.show()"
   ]
  },
  {
   "cell_type": "markdown",
   "id": "1ffb562e",
   "metadata": {},
   "source": [
    "#### Bivariate analysis:"
   ]
  },
  {
   "cell_type": "markdown",
   "id": "86f45e3f",
   "metadata": {},
   "source": [
    "Driving Behaviours with acceleration on X-axis:"
   ]
  },
  {
   "cell_type": "code",
   "execution_count": 41,
   "id": "d75eaaa1",
   "metadata": {},
   "outputs": [
    {
     "data": {
      "image/png": "[encoded data removed]",
      "text/plain": [
       "<Figure size 500x300 with 1 Axes>"
      ]
     },
     "metadata": {},
     "output_type": "display_data"
    }
   ],
   "source": [
    "plt.figure(figsize=(5,3))\n",
    "plt.title(\"Driving Behaviours with acceleration on X-axis\",fontsize=10)\n",
    "df.sort_values(['AccX'],ascending=False)\n",
    "sns.barplot(x=df['Class'], y=df['AccX'])\n",
    "plt.xlabel(\"Class\",fontsize=9)\n",
    "plt.ylabel(\"AccX\",fontsize=9)\n",
    "plt.xticks(rotation = 60,fontsize = 10)\n",
    "plt.yticks(fontsize = 10)\n",
    "plt.show()"
   ]
  },
  {
   "cell_type": "code",
   "execution_count": 42,
   "id": "40be153b",
   "metadata": {},
   "outputs": [
    {
     "data": {
      "image/png": "[encoded data removed]",
      "text/plain": [
       "<Figure size 500x300 with 1 Axes>"
      ]
     },
     "metadata": {},
     "output_type": "display_data"
    }
   ],
   "source": [
    "plt.figure(figsize=(5,3))\n",
    "plt.title(\"Driving Behaviours with rotation  on Z-axis\",fontsize=10)\n",
    "Time= df.sort_values(['GyroZ'],ascending=False)\n",
    "sns.barplot(x=df['Class'], y=df['GyroZ'])\n",
    "plt.xlabel(\"Class\",fontsize=9)\n",
    "plt.ylabel(\"GyroZ\",fontsize=9)\n",
    "plt.xticks(rotation = 60,fontsize = 10)\n",
    "plt.yticks(fontsize = 10)\n",
    "plt.show()"
   ]
  },
  {
   "cell_type": "code",
   "execution_count": 43,
   "id": "c28e3842",
   "metadata": {},
   "outputs": [
    {
     "data": {
      "image/png": "[encoded data removed]",
      "text/plain": [
       "<Figure size 500x300 with 1 Axes>"
      ]
     },
     "metadata": {},
     "output_type": "display_data"
    }
   ],
   "source": [
    "plt.figure(figsize=(5,3))\n",
    "plt.title(\"Driving Behaviours with Timestamp\",fontsize=10)\n",
    "Time= df.sort_values(['Timestamp'],ascending=False)\n",
    "sns.barplot(x=df['Class'], y=df['Timestamp'])\n",
    "plt.xlabel(\"Class\",fontsize=9)\n",
    "plt.ylabel(\"Timestamp\",fontsize=9)\n",
    "plt.xticks(rotation = 60,fontsize = 10)\n",
    "plt.yticks(fontsize = 10)\n",
    "plt.show()"
   ]
  },
  {
   "cell_type": "markdown",
   "id": "0e24eb99",
   "metadata": {},
   "source": [
    "#### Multivariate analysis:"
   ]
  },
  {
   "cell_type": "code",
   "execution_count": 44,
   "id": "66f68d80",
   "metadata": {},
   "outputs": [
    {
     "data": {
      "text/plain": [
       "<AxesSubplot:>"
      ]
     },
     "execution_count": 44,
     "metadata": {},
     "output_type": "execute_result"
    },
    {
     "data": {
      "image/png": "[encoded data removed]",
      "text/plain": [
       "<Figure size 500x300 with 2 Axes>"
      ]
     },
     "metadata": {},
     "output_type": "display_data"
    }
   ],
   "source": [
    "plt.figure(figsize=(5,3))\n",
    "sns.heatmap(df.corr(),annot=True)\n"
   ]
  },
  {
   "cell_type": "markdown",
   "id": "bf08d193",
   "metadata": {},
   "source": [
    "### Data Preprocessing:"
   ]
  },
  {
   "cell_type": "code",
   "execution_count": 17,
   "id": "fd071af3",
   "metadata": {},
   "outputs": [
    {
     "data": {
      "text/html": [
       "<div>\n",
       "<style scoped>\n",
       "    .dataframe tbody tr th:only-of-type {\n",
       "        vertical-align: middle;\n",
       "    }\n",
       "\n",
       "    .dataframe tbody tr th {\n",
       "        vertical-align: top;\n",
       "    }\n",
       "\n",
       "    .dataframe thead th {\n",
       "        text-align: right;\n",
       "    }\n",
       "</style>\n",
       "<table border=\"1\" class=\"dataframe\">\n",
       "  <thead>\n",
       "    <tr style=\"text-align: right;\">\n",
       "      <th></th>\n",
       "      <th>AccX</th>\n",
       "      <th>AccY</th>\n",
       "      <th>AccZ</th>\n",
       "      <th>GyroX</th>\n",
       "      <th>GyroY</th>\n",
       "      <th>GyroZ</th>\n",
       "      <th>Class</th>\n",
       "      <th>Timestamp</th>\n",
       "    </tr>\n",
       "  </thead>\n",
       "  <tbody>\n",
       "    <tr>\n",
       "      <th>0</th>\n",
       "      <td>0.000000</td>\n",
       "      <td>0.000000</td>\n",
       "      <td>0.000000</td>\n",
       "      <td>0.059407</td>\n",
       "      <td>-0.174707</td>\n",
       "      <td>0.101938</td>\n",
       "      <td>1</td>\n",
       "      <td>3581629</td>\n",
       "    </tr>\n",
       "    <tr>\n",
       "      <th>1</th>\n",
       "      <td>-1.624864</td>\n",
       "      <td>-1.082492</td>\n",
       "      <td>-0.204183</td>\n",
       "      <td>-0.028558</td>\n",
       "      <td>0.051313</td>\n",
       "      <td>0.135536</td>\n",
       "      <td>1</td>\n",
       "      <td>3581630</td>\n",
       "    </tr>\n",
       "    <tr>\n",
       "      <th>2</th>\n",
       "      <td>-0.594660</td>\n",
       "      <td>-0.122410</td>\n",
       "      <td>0.220502</td>\n",
       "      <td>-0.019395</td>\n",
       "      <td>-0.029322</td>\n",
       "      <td>0.087888</td>\n",
       "      <td>1</td>\n",
       "      <td>3581630</td>\n",
       "    </tr>\n",
       "    <tr>\n",
       "      <th>3</th>\n",
       "      <td>0.738478</td>\n",
       "      <td>-0.228456</td>\n",
       "      <td>0.667732</td>\n",
       "      <td>0.069791</td>\n",
       "      <td>-0.029932</td>\n",
       "      <td>0.054902</td>\n",
       "      <td>1</td>\n",
       "      <td>3581631</td>\n",
       "    </tr>\n",
       "    <tr>\n",
       "      <th>4</th>\n",
       "      <td>0.101741</td>\n",
       "      <td>0.777568</td>\n",
       "      <td>-0.066730</td>\n",
       "      <td>0.030696</td>\n",
       "      <td>-0.003665</td>\n",
       "      <td>0.054902</td>\n",
       "      <td>1</td>\n",
       "      <td>3581631</td>\n",
       "    </tr>\n",
       "    <tr>\n",
       "      <th>...</th>\n",
       "      <td>...</td>\n",
       "      <td>...</td>\n",
       "      <td>...</td>\n",
       "      <td>...</td>\n",
       "      <td>...</td>\n",
       "      <td>...</td>\n",
       "      <td>...</td>\n",
       "      <td>...</td>\n",
       "    </tr>\n",
       "    <tr>\n",
       "      <th>3079</th>\n",
       "      <td>-0.713858</td>\n",
       "      <td>-0.652975</td>\n",
       "      <td>-0.164015</td>\n",
       "      <td>-0.147829</td>\n",
       "      <td>-1.309466</td>\n",
       "      <td>0.517250</td>\n",
       "      <td>0</td>\n",
       "      <td>820706</td>\n",
       "    </tr>\n",
       "    <tr>\n",
       "      <th>3080</th>\n",
       "      <td>1.514261</td>\n",
       "      <td>0.330070</td>\n",
       "      <td>1.020714</td>\n",
       "      <td>1.321302</td>\n",
       "      <td>1.707598</td>\n",
       "      <td>-0.674548</td>\n",
       "      <td>0</td>\n",
       "      <td>820707</td>\n",
       "    </tr>\n",
       "    <tr>\n",
       "      <th>3081</th>\n",
       "      <td>1.280216</td>\n",
       "      <td>-1.735172</td>\n",
       "      <td>-2.332695</td>\n",
       "      <td>0.583376</td>\n",
       "      <td>0.690507</td>\n",
       "      <td>-0.468075</td>\n",
       "      <td>0</td>\n",
       "      <td>820707</td>\n",
       "    </tr>\n",
       "    <tr>\n",
       "      <th>3082</th>\n",
       "      <td>0.912313</td>\n",
       "      <td>0.583314</td>\n",
       "      <td>-0.965622</td>\n",
       "      <td>0.235794</td>\n",
       "      <td>0.512745</td>\n",
       "      <td>0.406073</td>\n",
       "      <td>0</td>\n",
       "      <td>820708</td>\n",
       "    </tr>\n",
       "    <tr>\n",
       "      <th>3083</th>\n",
       "      <td>1.462172</td>\n",
       "      <td>0.190287</td>\n",
       "      <td>0.019377</td>\n",
       "      <td>-0.254731</td>\n",
       "      <td>-0.279547</td>\n",
       "      <td>0.076205</td>\n",
       "      <td>0</td>\n",
       "      <td>820709</td>\n",
       "    </tr>\n",
       "  </tbody>\n",
       "</table>\n",
       "<p>6728 rows × 8 columns</p>\n",
       "</div>"
      ],
      "text/plain": [
       "          AccX      AccY      AccZ     GyroX     GyroY     GyroZ  Class  \\\n",
       "0     0.000000  0.000000  0.000000  0.059407 -0.174707  0.101938      1   \n",
       "1    -1.624864 -1.082492 -0.204183 -0.028558  0.051313  0.135536      1   \n",
       "2    -0.594660 -0.122410  0.220502 -0.019395 -0.029322  0.087888      1   \n",
       "3     0.738478 -0.228456  0.667732  0.069791 -0.029932  0.054902      1   \n",
       "4     0.101741  0.777568 -0.066730  0.030696 -0.003665  0.054902      1   \n",
       "...        ...       ...       ...       ...       ...       ...    ...   \n",
       "3079 -0.713858 -0.652975 -0.164015 -0.147829 -1.309466  0.517250      0   \n",
       "3080  1.514261  0.330070  1.020714  1.321302  1.707598 -0.674548      0   \n",
       "3081  1.280216 -1.735172 -2.332695  0.583376  0.690507 -0.468075      0   \n",
       "3082  0.912313  0.583314 -0.965622  0.235794  0.512745  0.406073      0   \n",
       "3083  1.462172  0.190287  0.019377 -0.254731 -0.279547  0.076205      0   \n",
       "\n",
       "      Timestamp  \n",
       "0       3581629  \n",
       "1       3581630  \n",
       "2       3581630  \n",
       "3       3581631  \n",
       "4       3581631  \n",
       "...         ...  \n",
       "3079     820706  \n",
       "3080     820707  \n",
       "3081     820707  \n",
       "3082     820708  \n",
       "3083     820709  \n",
       "\n",
       "[6728 rows x 8 columns]"
      ]
     },
     "execution_count": 17,
     "metadata": {},
     "output_type": "execute_result"
    }
   ],
   "source": [
    "df"
   ]
  },
  {
   "cell_type": "code",
   "execution_count": 18,
   "id": "c424f2dc",
   "metadata": {},
   "outputs": [],
   "source": [
    "y = df['Class']\n",
    "X = df.drop('Class',axis=1)\n",
    "    "
   ]
  },
  {
   "cell_type": "code",
   "execution_count": 19,
   "id": "53d07277",
   "metadata": {},
   "outputs": [
    {
     "data": {
      "text/plain": [
       "array([1, 2, 0], dtype=int64)"
      ]
     },
     "execution_count": 19,
     "metadata": {},
     "output_type": "execute_result"
    }
   ],
   "source": [
    "df[\"Class\"].unique()"
   ]
  },
  {
   "cell_type": "code",
   "execution_count": 20,
   "id": "d303ac90",
   "metadata": {},
   "outputs": [
    {
     "data": {
      "text/html": [
       "<div>\n",
       "<style scoped>\n",
       "    .dataframe tbody tr th:only-of-type {\n",
       "        vertical-align: middle;\n",
       "    }\n",
       "\n",
       "    .dataframe tbody tr th {\n",
       "        vertical-align: top;\n",
       "    }\n",
       "\n",
       "    .dataframe thead th {\n",
       "        text-align: right;\n",
       "    }\n",
       "</style>\n",
       "<table border=\"1\" class=\"dataframe\">\n",
       "  <thead>\n",
       "    <tr style=\"text-align: right;\">\n",
       "      <th></th>\n",
       "      <th>AccX</th>\n",
       "      <th>AccY</th>\n",
       "      <th>AccZ</th>\n",
       "      <th>GyroX</th>\n",
       "      <th>GyroY</th>\n",
       "      <th>GyroZ</th>\n",
       "      <th>Timestamp</th>\n",
       "    </tr>\n",
       "  </thead>\n",
       "  <tbody>\n",
       "    <tr>\n",
       "      <th>0</th>\n",
       "      <td>0.000000</td>\n",
       "      <td>0.000000</td>\n",
       "      <td>0.000000</td>\n",
       "      <td>0.059407</td>\n",
       "      <td>-0.174707</td>\n",
       "      <td>0.101938</td>\n",
       "      <td>3581629</td>\n",
       "    </tr>\n",
       "    <tr>\n",
       "      <th>1</th>\n",
       "      <td>-1.624864</td>\n",
       "      <td>-1.082492</td>\n",
       "      <td>-0.204183</td>\n",
       "      <td>-0.028558</td>\n",
       "      <td>0.051313</td>\n",
       "      <td>0.135536</td>\n",
       "      <td>3581630</td>\n",
       "    </tr>\n",
       "    <tr>\n",
       "      <th>2</th>\n",
       "      <td>-0.594660</td>\n",
       "      <td>-0.122410</td>\n",
       "      <td>0.220502</td>\n",
       "      <td>-0.019395</td>\n",
       "      <td>-0.029322</td>\n",
       "      <td>0.087888</td>\n",
       "      <td>3581630</td>\n",
       "    </tr>\n",
       "    <tr>\n",
       "      <th>3</th>\n",
       "      <td>0.738478</td>\n",
       "      <td>-0.228456</td>\n",
       "      <td>0.667732</td>\n",
       "      <td>0.069791</td>\n",
       "      <td>-0.029932</td>\n",
       "      <td>0.054902</td>\n",
       "      <td>3581631</td>\n",
       "    </tr>\n",
       "    <tr>\n",
       "      <th>4</th>\n",
       "      <td>0.101741</td>\n",
       "      <td>0.777568</td>\n",
       "      <td>-0.066730</td>\n",
       "      <td>0.030696</td>\n",
       "      <td>-0.003665</td>\n",
       "      <td>0.054902</td>\n",
       "      <td>3581631</td>\n",
       "    </tr>\n",
       "    <tr>\n",
       "      <th>...</th>\n",
       "      <td>...</td>\n",
       "      <td>...</td>\n",
       "      <td>...</td>\n",
       "      <td>...</td>\n",
       "      <td>...</td>\n",
       "      <td>...</td>\n",
       "      <td>...</td>\n",
       "    </tr>\n",
       "    <tr>\n",
       "      <th>3079</th>\n",
       "      <td>-0.713858</td>\n",
       "      <td>-0.652975</td>\n",
       "      <td>-0.164015</td>\n",
       "      <td>-0.147829</td>\n",
       "      <td>-1.309466</td>\n",
       "      <td>0.517250</td>\n",
       "      <td>820706</td>\n",
       "    </tr>\n",
       "    <tr>\n",
       "      <th>3080</th>\n",
       "      <td>1.514261</td>\n",
       "      <td>0.330070</td>\n",
       "      <td>1.020714</td>\n",
       "      <td>1.321302</td>\n",
       "      <td>1.707598</td>\n",
       "      <td>-0.674548</td>\n",
       "      <td>820707</td>\n",
       "    </tr>\n",
       "    <tr>\n",
       "      <th>3081</th>\n",
       "      <td>1.280216</td>\n",
       "      <td>-1.735172</td>\n",
       "      <td>-2.332695</td>\n",
       "      <td>0.583376</td>\n",
       "      <td>0.690507</td>\n",
       "      <td>-0.468075</td>\n",
       "      <td>820707</td>\n",
       "    </tr>\n",
       "    <tr>\n",
       "      <th>3082</th>\n",
       "      <td>0.912313</td>\n",
       "      <td>0.583314</td>\n",
       "      <td>-0.965622</td>\n",
       "      <td>0.235794</td>\n",
       "      <td>0.512745</td>\n",
       "      <td>0.406073</td>\n",
       "      <td>820708</td>\n",
       "    </tr>\n",
       "    <tr>\n",
       "      <th>3083</th>\n",
       "      <td>1.462172</td>\n",
       "      <td>0.190287</td>\n",
       "      <td>0.019377</td>\n",
       "      <td>-0.254731</td>\n",
       "      <td>-0.279547</td>\n",
       "      <td>0.076205</td>\n",
       "      <td>820709</td>\n",
       "    </tr>\n",
       "  </tbody>\n",
       "</table>\n",
       "<p>6728 rows × 7 columns</p>\n",
       "</div>"
      ],
      "text/plain": [
       "          AccX      AccY      AccZ     GyroX     GyroY     GyroZ  Timestamp\n",
       "0     0.000000  0.000000  0.000000  0.059407 -0.174707  0.101938    3581629\n",
       "1    -1.624864 -1.082492 -0.204183 -0.028558  0.051313  0.135536    3581630\n",
       "2    -0.594660 -0.122410  0.220502 -0.019395 -0.029322  0.087888    3581630\n",
       "3     0.738478 -0.228456  0.667732  0.069791 -0.029932  0.054902    3581631\n",
       "4     0.101741  0.777568 -0.066730  0.030696 -0.003665  0.054902    3581631\n",
       "...        ...       ...       ...       ...       ...       ...        ...\n",
       "3079 -0.713858 -0.652975 -0.164015 -0.147829 -1.309466  0.517250     820706\n",
       "3080  1.514261  0.330070  1.020714  1.321302  1.707598 -0.674548     820707\n",
       "3081  1.280216 -1.735172 -2.332695  0.583376  0.690507 -0.468075     820707\n",
       "3082  0.912313  0.583314 -0.965622  0.235794  0.512745  0.406073     820708\n",
       "3083  1.462172  0.190287  0.019377 -0.254731 -0.279547  0.076205     820709\n",
       "\n",
       "[6728 rows x 7 columns]"
      ]
     },
     "execution_count": 20,
     "metadata": {},
     "output_type": "execute_result"
    }
   ],
   "source": [
    "X"
   ]
  },
  {
   "cell_type": "code",
   "execution_count": 21,
   "id": "21a9bbd2",
   "metadata": {},
   "outputs": [
    {
     "data": {
      "text/plain": [
       "0       1\n",
       "1       1\n",
       "2       1\n",
       "3       1\n",
       "4       1\n",
       "       ..\n",
       "3079    0\n",
       "3080    0\n",
       "3081    0\n",
       "3082    0\n",
       "3083    0\n",
       "Name: Class, Length: 6728, dtype: int64"
      ]
     },
     "execution_count": 21,
     "metadata": {},
     "output_type": "execute_result"
    }
   ],
   "source": [
    "y"
   ]
  },
  {
   "cell_type": "code",
   "execution_count": 22,
   "id": "da971dec",
   "metadata": {},
   "outputs": [],
   "source": [
    "y = df['Class']\n",
    "X = df.drop('Class',axis=1)\n",
    "    "
   ]
  },
  {
   "cell_type": "code",
   "execution_count": 23,
   "id": "d05fd7d8",
   "metadata": {},
   "outputs": [],
   "source": [
    "from sklearn.model_selection import train_test_split"
   ]
  },
  {
   "cell_type": "code",
   "execution_count": 24,
   "id": "d02effee",
   "metadata": {},
   "outputs": [],
   "source": [
    "X_train , X_test ,y_train ,y_test = train_test_split(X , y , test_size = 0.3 ,random_state = 71)"
   ]
  },
  {
   "cell_type": "code",
   "execution_count": 25,
   "id": "baf09cd0",
   "metadata": {},
   "outputs": [
    {
     "data": {
      "text/plain": [
       "StandardScaler()"
      ]
     },
     "execution_count": 25,
     "metadata": {},
     "output_type": "execute_result"
    }
   ],
   "source": [
    "from sklearn.preprocessing import StandardScaler\n",
    "scaler = StandardScaler()\n",
    "scaler.fit(X_train)"
   ]
  },
  {
   "cell_type": "code",
   "execution_count": 26,
   "id": "eaedba81",
   "metadata": {},
   "outputs": [],
   "source": [
    "X_train = pd.DataFrame(scaler.transform(X_train),columns = X_train.columns, index=X_train.index)\n",
    "X_test = pd.DataFrame(scaler.transform(X_test),columns = X_test.columns, index=X_test.index)    \n",
    "    "
   ]
  },
  {
   "cell_type": "code",
   "execution_count": 27,
   "id": "0b40a25e",
   "metadata": {},
   "outputs": [
    {
     "data": {
      "text/html": [
       "<div>\n",
       "<style scoped>\n",
       "    .dataframe tbody tr th:only-of-type {\n",
       "        vertical-align: middle;\n",
       "    }\n",
       "\n",
       "    .dataframe tbody tr th {\n",
       "        vertical-align: top;\n",
       "    }\n",
       "\n",
       "    .dataframe thead th {\n",
       "        text-align: right;\n",
       "    }\n",
       "</style>\n",
       "<table border=\"1\" class=\"dataframe\">\n",
       "  <thead>\n",
       "    <tr style=\"text-align: right;\">\n",
       "      <th></th>\n",
       "      <th>AccX</th>\n",
       "      <th>AccY</th>\n",
       "      <th>AccZ</th>\n",
       "      <th>GyroX</th>\n",
       "      <th>GyroY</th>\n",
       "      <th>GyroZ</th>\n",
       "      <th>Timestamp</th>\n",
       "    </tr>\n",
       "  </thead>\n",
       "  <tbody>\n",
       "    <tr>\n",
       "      <th>2941</th>\n",
       "      <td>0.537075</td>\n",
       "      <td>0.311615</td>\n",
       "      <td>0.426377</td>\n",
       "      <td>-0.365839</td>\n",
       "      <td>0.196406</td>\n",
       "      <td>2.008166</td>\n",
       "      <td>0.921055</td>\n",
       "    </tr>\n",
       "    <tr>\n",
       "      <th>55</th>\n",
       "      <td>-0.006182</td>\n",
       "      <td>-0.270522</td>\n",
       "      <td>0.148840</td>\n",
       "      <td>-0.198427</td>\n",
       "      <td>0.113297</td>\n",
       "      <td>-0.095032</td>\n",
       "      <td>-1.086957</td>\n",
       "    </tr>\n",
       "    <tr>\n",
       "      <th>1993</th>\n",
       "      <td>0.349653</td>\n",
       "      <td>0.755598</td>\n",
       "      <td>-0.127875</td>\n",
       "      <td>0.015860</td>\n",
       "      <td>0.543212</td>\n",
       "      <td>-0.216535</td>\n",
       "      <td>-1.086109</td>\n",
       "    </tr>\n",
       "    <tr>\n",
       "      <th>1597</th>\n",
       "      <td>0.138219</td>\n",
       "      <td>-1.176200</td>\n",
       "      <td>0.011012</td>\n",
       "      <td>-0.627002</td>\n",
       "      <td>-0.196641</td>\n",
       "      <td>-0.248232</td>\n",
       "      <td>-1.086295</td>\n",
       "    </tr>\n",
       "    <tr>\n",
       "      <th>1381</th>\n",
       "      <td>-0.244729</td>\n",
       "      <td>-0.738761</td>\n",
       "      <td>1.081380</td>\n",
       "      <td>0.471221</td>\n",
       "      <td>-1.886303</td>\n",
       "      <td>0.021189</td>\n",
       "      <td>-1.086380</td>\n",
       "    </tr>\n",
       "  </tbody>\n",
       "</table>\n",
       "</div>"
      ],
      "text/plain": [
       "          AccX      AccY      AccZ     GyroX     GyroY     GyroZ  Timestamp\n",
       "2941  0.537075  0.311615  0.426377 -0.365839  0.196406  2.008166   0.921055\n",
       "55   -0.006182 -0.270522  0.148840 -0.198427  0.113297 -0.095032  -1.086957\n",
       "1993  0.349653  0.755598 -0.127875  0.015860  0.543212 -0.216535  -1.086109\n",
       "1597  0.138219 -1.176200  0.011012 -0.627002 -0.196641 -0.248232  -1.086295\n",
       "1381 -0.244729 -0.738761  1.081380  0.471221 -1.886303  0.021189  -1.086380"
      ]
     },
     "execution_count": 27,
     "metadata": {},
     "output_type": "execute_result"
    }
   ],
   "source": [
    "X_train.head()"
   ]
  },
  {
   "cell_type": "code",
   "execution_count": 28,
   "id": "f66933f9",
   "metadata": {},
   "outputs": [
    {
     "data": {
      "text/html": [
       "<div>\n",
       "<style scoped>\n",
       "    .dataframe tbody tr th:only-of-type {\n",
       "        vertical-align: middle;\n",
       "    }\n",
       "\n",
       "    .dataframe tbody tr th {\n",
       "        vertical-align: top;\n",
       "    }\n",
       "\n",
       "    .dataframe thead th {\n",
       "        text-align: right;\n",
       "    }\n",
       "</style>\n",
       "<table border=\"1\" class=\"dataframe\">\n",
       "  <thead>\n",
       "    <tr style=\"text-align: right;\">\n",
       "      <th></th>\n",
       "      <th>AccX</th>\n",
       "      <th>AccY</th>\n",
       "      <th>AccZ</th>\n",
       "      <th>GyroX</th>\n",
       "      <th>GyroY</th>\n",
       "      <th>GyroZ</th>\n",
       "      <th>Timestamp</th>\n",
       "    </tr>\n",
       "  </thead>\n",
       "  <tbody>\n",
       "    <tr>\n",
       "      <th>2960</th>\n",
       "      <td>-0.781909</td>\n",
       "      <td>0.101198</td>\n",
       "      <td>0.802991</td>\n",
       "      <td>1.857394</td>\n",
       "      <td>0.171411</td>\n",
       "      <td>3.313008</td>\n",
       "      <td>0.921063</td>\n",
       "    </tr>\n",
       "    <tr>\n",
       "      <th>2271</th>\n",
       "      <td>0.648426</td>\n",
       "      <td>-2.705377</td>\n",
       "      <td>-0.543983</td>\n",
       "      <td>-0.392625</td>\n",
       "      <td>-0.203514</td>\n",
       "      <td>-0.046827</td>\n",
       "      <td>0.920715</td>\n",
       "    </tr>\n",
       "    <tr>\n",
       "      <th>2912</th>\n",
       "      <td>-1.465645</td>\n",
       "      <td>-1.933819</td>\n",
       "      <td>-0.531655</td>\n",
       "      <td>-0.678342</td>\n",
       "      <td>-0.953364</td>\n",
       "      <td>-0.131351</td>\n",
       "      <td>0.921044</td>\n",
       "    </tr>\n",
       "    <tr>\n",
       "      <th>1768</th>\n",
       "      <td>0.213527</td>\n",
       "      <td>-0.260282</td>\n",
       "      <td>0.183132</td>\n",
       "      <td>0.935511</td>\n",
       "      <td>0.788163</td>\n",
       "      <td>0.079299</td>\n",
       "      <td>-1.086229</td>\n",
       "    </tr>\n",
       "    <tr>\n",
       "      <th>670</th>\n",
       "      <td>1.194835</td>\n",
       "      <td>2.861541</td>\n",
       "      <td>-0.522379</td>\n",
       "      <td>0.158719</td>\n",
       "      <td>0.698181</td>\n",
       "      <td>-0.301060</td>\n",
       "      <td>-1.086716</td>\n",
       "    </tr>\n",
       "  </tbody>\n",
       "</table>\n",
       "</div>"
      ],
      "text/plain": [
       "          AccX      AccY      AccZ     GyroX     GyroY     GyroZ  Timestamp\n",
       "2960 -0.781909  0.101198  0.802991  1.857394  0.171411  3.313008   0.921063\n",
       "2271  0.648426 -2.705377 -0.543983 -0.392625 -0.203514 -0.046827   0.920715\n",
       "2912 -1.465645 -1.933819 -0.531655 -0.678342 -0.953364 -0.131351   0.921044\n",
       "1768  0.213527 -0.260282  0.183132  0.935511  0.788163  0.079299  -1.086229\n",
       "670   1.194835  2.861541 -0.522379  0.158719  0.698181 -0.301060  -1.086716"
      ]
     },
     "execution_count": 28,
     "metadata": {},
     "output_type": "execute_result"
    }
   ],
   "source": [
    "X_test.head()"
   ]
  },
  {
   "cell_type": "code",
   "execution_count": 29,
   "id": "8ba9b1d7",
   "metadata": {},
   "outputs": [
    {
     "data": {
      "text/plain": [
       "array([1, 1, 1, ..., 0, 0, 0], dtype=int64)"
      ]
     },
     "execution_count": 29,
     "metadata": {},
     "output_type": "execute_result"
    }
   ],
   "source": [
    "from sklearn.preprocessing import LabelEncoder\n",
    "labelEncoder = LabelEncoder()\n",
    "y = labelEncoder.fit_transform(y)\n",
    "y"
   ]
  },
  {
   "cell_type": "code",
   "execution_count": 30,
   "id": "d12bb41c",
   "metadata": {},
   "outputs": [
    {
     "data": {
      "text/plain": [
       "2941    0\n",
       "55      2\n",
       "1993    0\n",
       "1597    1\n",
       "1381    1\n",
       "Name: Class, dtype: int64"
      ]
     },
     "execution_count": 30,
     "metadata": {},
     "output_type": "execute_result"
    }
   ],
   "source": [
    "y_train.head()"
   ]
  },
  {
   "cell_type": "code",
   "execution_count": 31,
   "id": "65b9e290",
   "metadata": {},
   "outputs": [
    {
     "data": {
      "text/plain": [
       "2960    0\n",
       "2271    2\n",
       "2912    0\n",
       "1768    1\n",
       "670     2\n",
       "Name: Class, dtype: int64"
      ]
     },
     "execution_count": 31,
     "metadata": {},
     "output_type": "execute_result"
    }
   ],
   "source": [
    "y_test.head()"
   ]
  },
  {
   "cell_type": "markdown",
   "id": "157a48f7",
   "metadata": {},
   "source": [
    "### Applying Algorithms:"
   ]
  },
  {
   "cell_type": "markdown",
   "id": "99773369",
   "metadata": {},
   "source": [
    "### SVM Classifier"
   ]
  },
  {
   "cell_type": "code",
   "execution_count": 58,
   "id": "9e0dffc4",
   "metadata": {},
   "outputs": [
    {
     "data": {
      "text/plain": [
       "SVC()"
      ]
     },
     "execution_count": 58,
     "metadata": {},
     "output_type": "execute_result"
    }
   ],
   "source": [
    "from sklearn import svm\n",
    "model = svm.SVC(kernel='rbf')\n",
    "model.fit(X_train,y_train)"
   ]
  },
  {
   "cell_type": "markdown",
   "id": "ab989407",
   "metadata": {},
   "source": [
    "#### Evalution of Model with SVC classifier For Training Data"
   ]
  },
  {
   "cell_type": "code",
   "execution_count": 59,
   "id": "5fc3c713",
   "metadata": {},
   "outputs": [],
   "source": [
    "svm_train_pred = model.predict(X_train)"
   ]
  },
  {
   "cell_type": "code",
   "execution_count": 60,
   "id": "d87ace18",
   "metadata": {},
   "outputs": [
    {
     "data": {
      "text/plain": [
       "array([0, 0, 0, 1, 0], dtype=int64)"
      ]
     },
     "execution_count": 60,
     "metadata": {},
     "output_type": "execute_result"
    }
   ],
   "source": [
    "svm_train_pred[:5]"
   ]
  },
  {
   "cell_type": "markdown",
   "id": "f6b17f46",
   "metadata": {},
   "source": [
    "#### Confusion matrix For Traing Data with SVM Classifier"
   ]
  },
  {
   "cell_type": "code",
   "execution_count": 61,
   "id": "732deffb",
   "metadata": {},
   "outputs": [
    {
     "data": {
      "text/plain": [
       "array([[1592,  112,  117],\n",
       "       [1073,  299,  162],\n",
       "       [ 685,  127,  542]], dtype=int64)"
      ]
     },
     "execution_count": 61,
     "metadata": {},
     "output_type": "execute_result"
    }
   ],
   "source": [
    "from sklearn.metrics import confusion_matrix\n",
    "confusion_matrix(y_train,svm_train_pred)"
   ]
  },
  {
   "cell_type": "markdown",
   "id": "d7267c9c",
   "metadata": {},
   "source": [
    "#### Accuracy Score For Training Data With SVM Classifier"
   ]
  },
  {
   "cell_type": "code",
   "execution_count": 62,
   "id": "7065d693",
   "metadata": {},
   "outputs": [
    {
     "data": {
      "text/plain": [
       "51.66702059885326"
      ]
     },
     "execution_count": 62,
     "metadata": {},
     "output_type": "execute_result"
    }
   ],
   "source": [
    "from sklearn.metrics import accuracy_score\n",
    "accuracy_score(y_train,svm_train_pred)*100"
   ]
  },
  {
   "cell_type": "markdown",
   "id": "769db0a3",
   "metadata": {},
   "source": [
    "#### Classification Report For Training Data With SVM Classifier"
   ]
  },
  {
   "cell_type": "code",
   "execution_count": 63,
   "id": "fc2bb1f8",
   "metadata": {},
   "outputs": [
    {
     "name": "stdout",
     "output_type": "stream",
     "text": [
      "              precision    recall  f1-score   support\n",
      "\n",
      "           0       0.48      0.87      0.62      1821\n",
      "           1       0.56      0.19      0.29      1534\n",
      "           2       0.66      0.40      0.50      1354\n",
      "\n",
      "    accuracy                           0.52      4709\n",
      "   macro avg       0.56      0.49      0.47      4709\n",
      "weighted avg       0.55      0.52      0.48      4709\n",
      "\n"
     ]
    }
   ],
   "source": [
    "from sklearn.metrics import classification_report\n",
    "print(classification_report(y_train,svm_train_pred))"
   ]
  },
  {
   "cell_type": "markdown",
   "id": "286d3f70",
   "metadata": {},
   "source": [
    "#### Evalution of Model with SVM Classifier For Testing Data"
   ]
  },
  {
   "cell_type": "code",
   "execution_count": 64,
   "id": "9d9904a0",
   "metadata": {},
   "outputs": [],
   "source": [
    "svm_test_pred = model.predict(X_test)"
   ]
  },
  {
   "cell_type": "code",
   "execution_count": 65,
   "id": "7ee6ddbb",
   "metadata": {},
   "outputs": [
    {
     "data": {
      "text/plain": [
       "array([2, 2, 2, 0, 2], dtype=int64)"
      ]
     },
     "execution_count": 65,
     "metadata": {},
     "output_type": "execute_result"
    }
   ],
   "source": [
    "svm_test_pred[:5]"
   ]
  },
  {
   "cell_type": "markdown",
   "id": "1fd294fc",
   "metadata": {},
   "source": [
    "#### Confusion matrix For Testing Data with SVM Classifier"
   ]
  },
  {
   "cell_type": "code",
   "execution_count": 66,
   "id": "6bc6b5b4",
   "metadata": {},
   "outputs": [
    {
     "data": {
      "text/plain": [
       "array([[619,  93,  71],\n",
       "       [502,  87,  74],\n",
       "       [314,  83, 176]], dtype=int64)"
      ]
     },
     "execution_count": 66,
     "metadata": {},
     "output_type": "execute_result"
    }
   ],
   "source": [
    "confusion_matrix(y_test,svm_test_pred)"
   ]
  },
  {
   "cell_type": "markdown",
   "id": "a6623ea2",
   "metadata": {},
   "source": [
    "#### Accuracy Score For Testing Data With SVM Classifier"
   ]
  },
  {
   "cell_type": "code",
   "execution_count": 67,
   "id": "857c2a29",
   "metadata": {},
   "outputs": [
    {
     "data": {
      "text/plain": [
       "43.684992570579496"
      ]
     },
     "execution_count": 67,
     "metadata": {},
     "output_type": "execute_result"
    }
   ],
   "source": [
    "accuracy_score(y_test,svm_test_pred)*100"
   ]
  },
  {
   "cell_type": "markdown",
   "id": "907b418d",
   "metadata": {},
   "source": [
    "#### Classification Report For Testing Data With SVM Classifier"
   ]
  },
  {
   "cell_type": "code",
   "execution_count": 68,
   "id": "f6d13be5",
   "metadata": {},
   "outputs": [
    {
     "name": "stdout",
     "output_type": "stream",
     "text": [
      "              precision    recall  f1-score   support\n",
      "\n",
      "           0       0.43      0.79      0.56       783\n",
      "           1       0.33      0.13      0.19       663\n",
      "           2       0.55      0.31      0.39       573\n",
      "\n",
      "    accuracy                           0.44      2019\n",
      "   macro avg       0.44      0.41      0.38      2019\n",
      "weighted avg       0.43      0.44      0.39      2019\n",
      "\n"
     ]
    }
   ],
   "source": [
    "print(classification_report(y_test,svm_test_pred))"
   ]
  },
  {
   "cell_type": "markdown",
   "id": "8f4a313d",
   "metadata": {},
   "source": [
    "### Hyperparameter tuning for SVM Classifier"
   ]
  },
  {
   "cell_type": "code",
   "execution_count": null,
   "id": "15a3c85c",
   "metadata": {},
   "outputs": [
    {
     "name": "stdout",
     "output_type": "stream",
     "text": [
      "Fitting 5 folds for each of 240 candidates, totalling 1200 fits\n"
     ]
    }
   ],
   "source": [
    "from sklearn.model_selection import GridSearchCV\n",
    "from sklearn import svm\n",
    "C=[0.05,0.1,0.2,0.3,0.25,0.4,0.5,0.6,0.7,0.8,0.9,1]\n",
    "gamma=[0.1,0.2,0.3,0.4,0.5,0.6,0.7,0.8,0.9,1.0]\n",
    "kernel=['rbf','linear']\n",
    "hyper={'kernel':kernel,'C':C,'gamma':gamma}\n",
    "gd=GridSearchCV(estimator=svm.SVC(),param_grid=hyper,verbose=True)\n",
    "gd.fit(X,y)\n",
    "print(gd.best_score_)\n",
    "print(gd.best_estimator_)"
   ]
  },
  {
   "cell_type": "markdown",
   "id": "7e283ac1",
   "metadata": {},
   "source": [
    "### Xgboost Classifier"
   ]
  },
  {
   "cell_type": "code",
   "execution_count": 71,
   "id": "6ab5709c",
   "metadata": {},
   "outputs": [],
   "source": [
    "from xgboost import XGBClassifier\n",
    "import xgboost as xgb\n",
    "model=xgb.XGBClassifier()\n"
   ]
  },
  {
   "cell_type": "code",
   "execution_count": 72,
   "id": "f4f62abb",
   "metadata": {},
   "outputs": [
    {
     "data": {
      "text/plain": [
       "XGBClassifier(base_score=None, booster=None, callbacks=None,\n",
       "              colsample_bylevel=None, colsample_bynode=None,\n",
       "              colsample_bytree=None, early_stopping_rounds=None,\n",
       "              enable_categorical=False, eval_metric=None, feature_types=None,\n",
       "              gamma=None, gpu_id=None, grow_policy=None, importance_type=None,\n",
       "              interaction_constraints=None, learning_rate=None, max_bin=None,\n",
       "              max_cat_threshold=None, max_cat_to_onehot=None,\n",
       "              max_delta_step=None, max_depth=None, max_leaves=None,\n",
       "              min_child_weight=None, missing=nan, monotone_constraints=None,\n",
       "              n_estimators=100, n_jobs=None, num_parallel_tree=None,\n",
       "              objective='multi:softprob', predictor=None, ...)"
      ]
     },
     "execution_count": 72,
     "metadata": {},
     "output_type": "execute_result"
    }
   ],
   "source": [
    "model.fit(X_train,y_train)"
   ]
  },
  {
   "cell_type": "markdown",
   "id": "50c5798c",
   "metadata": {},
   "source": [
    "#### Evalution of Model with XG Boost Technique For Training Data"
   ]
  },
  {
   "cell_type": "code",
   "execution_count": 73,
   "id": "76ca1de4",
   "metadata": {},
   "outputs": [],
   "source": [
    "Xg_train_pred = model.predict(X_train)"
   ]
  },
  {
   "cell_type": "code",
   "execution_count": 74,
   "id": "14c938ff",
   "metadata": {},
   "outputs": [
    {
     "data": {
      "text/plain": [
       "array([0, 2, 0, 1, 1], dtype=int64)"
      ]
     },
     "execution_count": 74,
     "metadata": {},
     "output_type": "execute_result"
    }
   ],
   "source": [
    "Xg_train_pred[:5]"
   ]
  },
  {
   "cell_type": "markdown",
   "id": "79ad29b1",
   "metadata": {},
   "source": [
    "#### Confusion matrix For Traing Data with XG Boost"
   ]
  },
  {
   "cell_type": "code",
   "execution_count": 75,
   "id": "7f0cbfe3",
   "metadata": {},
   "outputs": [
    {
     "data": {
      "text/plain": [
       "array([[1821,    0,    0],\n",
       "       [   0, 1534,    0],\n",
       "       [   0,    0, 1354]], dtype=int64)"
      ]
     },
     "execution_count": 75,
     "metadata": {},
     "output_type": "execute_result"
    }
   ],
   "source": [
    "confusion_matrix(y_train,Xg_train_pred)"
   ]
  },
  {
   "cell_type": "markdown",
   "id": "9c7dcaf1",
   "metadata": {},
   "source": [
    "#### Accuracy Score For Training Data With XG Boost"
   ]
  },
  {
   "cell_type": "code",
   "execution_count": 76,
   "id": "dadaaae6",
   "metadata": {},
   "outputs": [
    {
     "data": {
      "text/plain": [
       "100.0"
      ]
     },
     "execution_count": 76,
     "metadata": {},
     "output_type": "execute_result"
    }
   ],
   "source": [
    "accuracy_score(y_train,Xg_train_pred)*100"
   ]
  },
  {
   "cell_type": "markdown",
   "id": "95318a2e",
   "metadata": {},
   "source": [
    "#### Classification Report For Training Data With XG Boost"
   ]
  },
  {
   "cell_type": "code",
   "execution_count": 77,
   "id": "9623411b",
   "metadata": {},
   "outputs": [
    {
     "name": "stdout",
     "output_type": "stream",
     "text": [
      "              precision    recall  f1-score   support\n",
      "\n",
      "           0       1.00      1.00      1.00      1821\n",
      "           1       1.00      1.00      1.00      1534\n",
      "           2       1.00      1.00      1.00      1354\n",
      "\n",
      "    accuracy                           1.00      4709\n",
      "   macro avg       1.00      1.00      1.00      4709\n",
      "weighted avg       1.00      1.00      1.00      4709\n",
      "\n"
     ]
    }
   ],
   "source": [
    "print(classification_report(y_train,Xg_train_pred))"
   ]
  },
  {
   "cell_type": "markdown",
   "id": "789f24c0",
   "metadata": {},
   "source": [
    "#### Evalution of Model with XG Boost Technique For Testing Data"
   ]
  },
  {
   "cell_type": "code",
   "execution_count": 78,
   "id": "2695d89c",
   "metadata": {},
   "outputs": [],
   "source": [
    "Xg_test_pred = model.predict(X_test)"
   ]
  },
  {
   "cell_type": "code",
   "execution_count": 79,
   "id": "5f7b3fa4",
   "metadata": {},
   "outputs": [
    {
     "data": {
      "text/plain": [
       "array([0, 2, 0, 1, 2], dtype=int64)"
      ]
     },
     "execution_count": 79,
     "metadata": {},
     "output_type": "execute_result"
    }
   ],
   "source": [
    "Xg_test_pred[:5]"
   ]
  },
  {
   "cell_type": "markdown",
   "id": "438898d2",
   "metadata": {},
   "source": [
    "#### Confusion matrix For Testing Data with XG Boost"
   ]
  },
  {
   "cell_type": "code",
   "execution_count": 80,
   "id": "9c36ab8f",
   "metadata": {},
   "outputs": [
    {
     "data": {
      "text/plain": [
       "array([[783,   0,   0],\n",
       "       [  0, 663,   0],\n",
       "       [  0,   0, 573]], dtype=int64)"
      ]
     },
     "execution_count": 80,
     "metadata": {},
     "output_type": "execute_result"
    }
   ],
   "source": [
    "confusion_matrix(y_test,Xg_test_pred)"
   ]
  },
  {
   "cell_type": "markdown",
   "id": "1d23c4f3",
   "metadata": {},
   "source": [
    "#### Accuracy Score For Testing Data With XG Boost"
   ]
  },
  {
   "cell_type": "code",
   "execution_count": 81,
   "id": "e473abd3",
   "metadata": {},
   "outputs": [
    {
     "data": {
      "text/plain": [
       "100.0"
      ]
     },
     "execution_count": 81,
     "metadata": {},
     "output_type": "execute_result"
    }
   ],
   "source": [
    "accuracy_score(y_test,Xg_test_pred)*100"
   ]
  },
  {
   "cell_type": "markdown",
   "id": "eaf423b5",
   "metadata": {},
   "source": [
    "#### Classification Report For Testing Data With XG Boost"
   ]
  },
  {
   "cell_type": "code",
   "execution_count": 82,
   "id": "72f32bb0",
   "metadata": {},
   "outputs": [
    {
     "name": "stdout",
     "output_type": "stream",
     "text": [
      "              precision    recall  f1-score   support\n",
      "\n",
      "           0       1.00      1.00      1.00       783\n",
      "           1       1.00      1.00      1.00       663\n",
      "           2       1.00      1.00      1.00       573\n",
      "\n",
      "    accuracy                           1.00      2019\n",
      "   macro avg       1.00      1.00      1.00      2019\n",
      "weighted avg       1.00      1.00      1.00      2019\n",
      "\n"
     ]
    }
   ],
   "source": [
    "print(classification_report(y_test,Xg_test_pred))"
   ]
  },
  {
   "cell_type": "markdown",
   "id": "55be0a71",
   "metadata": {},
   "source": [
    "### Gradient Boosting Classifier:"
   ]
  },
  {
   "cell_type": "code",
   "execution_count": 32,
   "id": "2b29101a",
   "metadata": {},
   "outputs": [
    {
     "data": {
      "text/plain": [
       "GradientBoostingClassifier(max_depth=1, max_features=0.2, n_estimators=300,\n",
       "                           random_state=42, subsample=0.8)"
      ]
     },
     "execution_count": 32,
     "metadata": {},
     "output_type": "execute_result"
    }
   ],
   "source": [
    "from sklearn.ensemble import GradientBoostingClassifier\n",
    "gbt = GradientBoostingClassifier(n_estimators = 300,max_depth=1,subsample=0.8,max_features=0.2,random_state=42)\n",
    "gbt.fit(X_train,y_train)\n"
   ]
  },
  {
   "cell_type": "markdown",
   "id": "a956ef6f",
   "metadata": {},
   "source": [
    "#### Evalution of Model with Training Data"
   ]
  },
  {
   "cell_type": "code",
   "execution_count": 33,
   "id": "af940781",
   "metadata": {},
   "outputs": [
    {
     "data": {
      "text/plain": [
       "array([0, 2, 0, 1, 1, 1, 1, 2, 1, 2], dtype=int64)"
      ]
     },
     "execution_count": 33,
     "metadata": {},
     "output_type": "execute_result"
    }
   ],
   "source": [
    "gbt_train_pred = gbt.predict(X_train)\n",
    "gbt_train_pred[:10]"
   ]
  },
  {
   "cell_type": "markdown",
   "id": "ae0b6305",
   "metadata": {},
   "source": [
    "#### Confusion Matrix for Training Data"
   ]
  },
  {
   "cell_type": "code",
   "execution_count": 34,
   "id": "fe900628",
   "metadata": {},
   "outputs": [
    {
     "data": {
      "text/plain": [
       "array([[1797,   16,    8],\n",
       "       [   0, 1533,    1],\n",
       "       [   8,    0, 1346]], dtype=int64)"
      ]
     },
     "execution_count": 34,
     "metadata": {},
     "output_type": "execute_result"
    }
   ],
   "source": [
    "from sklearn.metrics import confusion_matrix\n",
    "confusion_matrix(y_train ,gbt_train_pred)"
   ]
  },
  {
   "cell_type": "markdown",
   "id": "f43f7079",
   "metadata": {},
   "source": [
    "#### Accuracy for Training Data"
   ]
  },
  {
   "cell_type": "code",
   "execution_count": 36,
   "id": "b974cf47",
   "metadata": {},
   "outputs": [
    {
     "data": {
      "text/plain": [
       "99.29921427054576"
      ]
     },
     "execution_count": 36,
     "metadata": {},
     "output_type": "execute_result"
    }
   ],
   "source": [
    "from sklearn.metrics import accuracy_score\n",
    "accuracy_score(y_train,gbt_train_pred)*100"
   ]
  },
  {
   "cell_type": "markdown",
   "id": "1db8d363",
   "metadata": {},
   "source": [
    "#### Classification Report For Training Data"
   ]
  },
  {
   "cell_type": "code",
   "execution_count": 37,
   "id": "38fe559a",
   "metadata": {},
   "outputs": [],
   "source": [
    "from sklearn.metrics import classification_report"
   ]
  },
  {
   "cell_type": "code",
   "execution_count": 38,
   "id": "3bc01a1c",
   "metadata": {},
   "outputs": [
    {
     "name": "stdout",
     "output_type": "stream",
     "text": [
      "              precision    recall  f1-score   support\n",
      "\n",
      "           0       1.00      0.99      0.99      1821\n",
      "           1       0.99      1.00      0.99      1534\n",
      "           2       0.99      0.99      0.99      1354\n",
      "\n",
      "    accuracy                           0.99      4709\n",
      "   macro avg       0.99      0.99      0.99      4709\n",
      "weighted avg       0.99      0.99      0.99      4709\n",
      "\n"
     ]
    }
   ],
   "source": [
    "print(classification_report(y_train , gbt_train_pred))"
   ]
  },
  {
   "cell_type": "markdown",
   "id": "cf9c7aca",
   "metadata": {},
   "source": [
    "#### Evaluation of Model With Test Data¶"
   ]
  },
  {
   "cell_type": "code",
   "execution_count": 39,
   "id": "51566877",
   "metadata": {},
   "outputs": [
    {
     "data": {
      "text/plain": [
       "array([0, 2, 0, 1, 2, 0, 0, 2, 2, 2], dtype=int64)"
      ]
     },
     "execution_count": 39,
     "metadata": {},
     "output_type": "execute_result"
    }
   ],
   "source": [
    "gbt_test_pred = gbt.predict(X_test)\n",
    "gbt_test_pred[:10]"
   ]
  },
  {
   "cell_type": "markdown",
   "id": "6bc27e0c",
   "metadata": {},
   "source": [
    "#### Confusion matrix For Testing Data"
   ]
  },
  {
   "cell_type": "code",
   "execution_count": 40,
   "id": "d2171988",
   "metadata": {},
   "outputs": [
    {
     "data": {
      "text/plain": [
       "array([[758,  21,   4],\n",
       "       [  0, 663,   0],\n",
       "       [  3,   0, 570]], dtype=int64)"
      ]
     },
     "execution_count": 40,
     "metadata": {},
     "output_type": "execute_result"
    }
   ],
   "source": [
    "confusion_matrix(y_test,gbt_test_pred)"
   ]
  },
  {
   "cell_type": "markdown",
   "id": "2612adfe",
   "metadata": {},
   "source": [
    "#### Accuracy for Test Data"
   ]
  },
  {
   "cell_type": "code",
   "execution_count": 41,
   "id": "f9b9f759",
   "metadata": {},
   "outputs": [
    {
     "data": {
      "text/plain": [
       "98.61317483902923"
      ]
     },
     "execution_count": 41,
     "metadata": {},
     "output_type": "execute_result"
    }
   ],
   "source": [
    "accuracy_score(y_test,gbt_test_pred)*100"
   ]
  },
  {
   "cell_type": "markdown",
   "id": "51fb7a68",
   "metadata": {},
   "source": [
    "#### Classification Report For Testing Data¶"
   ]
  },
  {
   "cell_type": "code",
   "execution_count": 42,
   "id": "cf3dad10",
   "metadata": {},
   "outputs": [
    {
     "name": "stdout",
     "output_type": "stream",
     "text": [
      "              precision    recall  f1-score   support\n",
      "\n",
      "           0       1.00      0.97      0.98       783\n",
      "           1       0.97      1.00      0.98       663\n",
      "           2       0.99      0.99      0.99       573\n",
      "\n",
      "    accuracy                           0.99      2019\n",
      "   macro avg       0.99      0.99      0.99      2019\n",
      "weighted avg       0.99      0.99      0.99      2019\n",
      "\n"
     ]
    }
   ],
   "source": [
    "print(classification_report(y_test, gbt_test_pred))"
   ]
  },
  {
   "cell_type": "markdown",
   "id": "b25699f3",
   "metadata": {},
   "source": [
    "#### Evaluating Model Performance\n",
    "\n",
    "\n",
    "#### To Check Whether Our Model is Predicting Correctly or Not"
   ]
  },
  {
   "cell_type": "code",
   "execution_count": 43,
   "id": "665c3742",
   "metadata": {},
   "outputs": [
    {
     "data": {
      "text/plain": [
       "array([0], dtype=int64)"
      ]
     },
     "execution_count": 43,
     "metadata": {},
     "output_type": "execute_result"
    }
   ],
   "source": [
    "gbt.predict([[-0.852127,0.099752,0.884941,2.277758,0.249374,1.982083,0.921063]])"
   ]
  },
  {
   "cell_type": "code",
   "execution_count": 44,
   "id": "91d20de6",
   "metadata": {},
   "outputs": [
    {
     "data": {
      "text/plain": [
       "array([2], dtype=int64)"
      ]
     },
     "execution_count": 44,
     "metadata": {},
     "output_type": "execute_result"
    }
   ],
   "source": [
    "gbt.predict([[0.724676,-2.422342,-0.598244,-0.524461,-0.265004,-0.006757,0.920715]])"
   ]
  },
  {
   "cell_type": "code",
   "execution_count": 45,
   "id": "b14f6e0d",
   "metadata": {},
   "outputs": [
    {
     "data": {
      "text/plain": [
       "array([0], dtype=int64)"
      ]
     },
     "execution_count": 45,
     "metadata": {},
     "output_type": "execute_result"
    }
   ],
   "source": [
    "gbt.predict([[-1.605878,-2.107116,-0.584670,-0.918836,-1.293761,-0.152476,0.921044]])"
   ]
  },
  {
   "cell_type": "code",
   "execution_count": 46,
   "id": "4d298ecd",
   "metadata": {},
   "outputs": [
    {
     "data": {
      "text/plain": [
       "array([1], dtype=int64)"
      ]
     },
     "execution_count": 46,
     "metadata": {},
     "output_type": "execute_result"
    }
   ],
   "source": [
    "gbt.predict([[0.245243,-0.292253,0.202400,1.308767,1.095527,0.210684,-1.086229]])"
   ]
  },
  {
   "cell_type": "code",
   "execution_count": 47,
   "id": "feb1c230",
   "metadata": {},
   "outputs": [
    {
     "data": {
      "text/plain": [
       "array([2], dtype=int64)"
      ]
     },
     "execution_count": 47,
     "metadata": {},
     "output_type": "execute_result"
    }
   ],
   "source": [
    "gbt.predict([[1.327038,2.438794,-0.574456,0.236560,0.972076,-0.445053,-1.086716]])"
   ]
  },
  {
   "cell_type": "markdown",
   "id": "65ece5fc",
   "metadata": {},
   "source": [
    "### Cross Validation Score:"
   ]
  },
  {
   "cell_type": "code",
   "execution_count": 98,
   "id": "3c15a7e5",
   "metadata": {},
   "outputs": [
    {
     "name": "stdout",
     "output_type": "stream",
     "text": [
      "Accuracy: 0.929 (0.021)\n",
      "Prediction: 1\n"
     ]
    }
   ],
   "source": [
    "from numpy import mean\n",
    "from numpy import std\n",
    "from sklearn.datasets import make_classification\n",
    "from sklearn.ensemble import GradientBoostingClassifier\n",
    "from sklearn.model_selection import cross_val_score\n",
    "from sklearn.model_selection import RepeatedStratifiedKFold\n",
    "# define dataset\n",
    "X, y = make_classification(n_samples=1000, n_features=7, n_informative=4, n_redundant=3, random_state=1)\n",
    "# evaluate the model\n",
    "model = GradientBoostingClassifier()\n",
    "cv = RepeatedStratifiedKFold(n_splits=10, n_repeats=3, random_state=1)\n",
    "n_scores = cross_val_score(model, X, y, scoring='accuracy', cv=cv, n_jobs=-1, error_score='raise')\n",
    "print('Accuracy: %.3f (%.3f)' % (mean(n_scores), std(n_scores)))\n",
    "# fit the model on the whole dataset\n",
    "model = GradientBoostingClassifier()\n",
    "model.fit(X, y)\n",
    "# make a single prediction\n",
    "row = [[0.324256,0.518828,0.684341,1.000000,0.554706,1.000000,0.999897]]\n",
    "yhat = model.predict(row)\n",
    "print('Prediction: %d' % yhat[0])"
   ]
  },
  {
   "cell_type": "markdown",
   "id": "a16b18cf",
   "metadata": {},
   "source": [
    "### Random Forest Classifier:"
   ]
  },
  {
   "cell_type": "code",
   "execution_count": 48,
   "id": "954aa714",
   "metadata": {},
   "outputs": [],
   "source": [
    "from sklearn.ensemble import RandomForestClassifier"
   ]
  },
  {
   "cell_type": "code",
   "execution_count": 49,
   "id": "062b2c31",
   "metadata": {},
   "outputs": [],
   "source": [
    "rfc=RandomForestClassifier(criterion='entropy')"
   ]
  },
  {
   "cell_type": "code",
   "execution_count": 50,
   "id": "92e5e6ee",
   "metadata": {},
   "outputs": [
    {
     "data": {
      "text/plain": [
       "RandomForestClassifier(criterion='entropy')"
      ]
     },
     "execution_count": 50,
     "metadata": {},
     "output_type": "execute_result"
    }
   ],
   "source": [
    "rfc.fit(X_train,y_train)"
   ]
  },
  {
   "cell_type": "markdown",
   "id": "230fad5b",
   "metadata": {},
   "source": [
    "### With Random Forest Checking Training Data"
   ]
  },
  {
   "cell_type": "code",
   "execution_count": 51,
   "id": "d9a5cde8",
   "metadata": {},
   "outputs": [],
   "source": [
    "rfc_train_pred = rfc.predict(X_train)"
   ]
  },
  {
   "cell_type": "code",
   "execution_count": 52,
   "id": "d7ec909b",
   "metadata": {},
   "outputs": [
    {
     "data": {
      "text/plain": [
       "array([0, 2, 0, 1, 1], dtype=int64)"
      ]
     },
     "execution_count": 52,
     "metadata": {},
     "output_type": "execute_result"
    }
   ],
   "source": [
    "rfc_train_pred[:5]"
   ]
  },
  {
   "cell_type": "markdown",
   "id": "bd7692bf",
   "metadata": {},
   "source": [
    "#### Confunsion matrix For Training Data "
   ]
  },
  {
   "cell_type": "code",
   "execution_count": 53,
   "id": "c022c55e",
   "metadata": {},
   "outputs": [
    {
     "data": {
      "text/plain": [
       "array([[1821,    0,    0],\n",
       "       [   0, 1534,    0],\n",
       "       [   0,    0, 1354]], dtype=int64)"
      ]
     },
     "execution_count": 53,
     "metadata": {},
     "output_type": "execute_result"
    }
   ],
   "source": [
    "confusion_matrix(y_train,rfc_train_pred)"
   ]
  },
  {
   "cell_type": "markdown",
   "id": "ac7da6ce",
   "metadata": {},
   "source": [
    "#### Accuracy For Training Data With Random Forest"
   ]
  },
  {
   "cell_type": "code",
   "execution_count": 54,
   "id": "947966a4",
   "metadata": {},
   "outputs": [
    {
     "data": {
      "text/plain": [
       "100.0"
      ]
     },
     "execution_count": 54,
     "metadata": {},
     "output_type": "execute_result"
    }
   ],
   "source": [
    "accuracy_score(y_train,rfc_train_pred)*100"
   ]
  },
  {
   "cell_type": "markdown",
   "id": "93c6a21a",
   "metadata": {},
   "source": [
    "#### Classification Report For Training Data"
   ]
  },
  {
   "cell_type": "code",
   "execution_count": 55,
   "id": "40dcefa5",
   "metadata": {},
   "outputs": [
    {
     "name": "stdout",
     "output_type": "stream",
     "text": [
      "              precision    recall  f1-score   support\n",
      "\n",
      "           0       1.00      1.00      1.00      1821\n",
      "           1       1.00      1.00      1.00      1534\n",
      "           2       1.00      1.00      1.00      1354\n",
      "\n",
      "    accuracy                           1.00      4709\n",
      "   macro avg       1.00      1.00      1.00      4709\n",
      "weighted avg       1.00      1.00      1.00      4709\n",
      "\n"
     ]
    }
   ],
   "source": [
    "print(classification_report(y_train, rfc_train_pred))"
   ]
  },
  {
   "cell_type": "markdown",
   "id": "ffe174f8",
   "metadata": {},
   "source": [
    "#### With Random Forest Checking Testing Data"
   ]
  },
  {
   "cell_type": "code",
   "execution_count": 56,
   "id": "6cfc3541",
   "metadata": {},
   "outputs": [],
   "source": [
    "rfc_test_pred = rfc.predict(X_test)\n"
   ]
  },
  {
   "cell_type": "code",
   "execution_count": 57,
   "id": "bb0482f2",
   "metadata": {},
   "outputs": [
    {
     "data": {
      "text/plain": [
       "array([0, 2, 0, 1, 2], dtype=int64)"
      ]
     },
     "execution_count": 57,
     "metadata": {},
     "output_type": "execute_result"
    }
   ],
   "source": [
    "rfc_test_pred[:5]"
   ]
  },
  {
   "cell_type": "markdown",
   "id": "ccff6247",
   "metadata": {},
   "source": [
    "#### Confunsion matrix For Test Data"
   ]
  },
  {
   "cell_type": "code",
   "execution_count": 58,
   "id": "26283986",
   "metadata": {},
   "outputs": [
    {
     "data": {
      "text/plain": [
       "array([[766,  17,   0],\n",
       "       [  0, 663,   0],\n",
       "       [  0,   0, 573]], dtype=int64)"
      ]
     },
     "execution_count": 58,
     "metadata": {},
     "output_type": "execute_result"
    }
   ],
   "source": [
    "confusion_matrix(y_test,rfc_test_pred)"
   ]
  },
  {
   "cell_type": "markdown",
   "id": "339748d6",
   "metadata": {},
   "source": [
    "#### Accuracy For Test Data With Random Forest "
   ]
  },
  {
   "cell_type": "code",
   "execution_count": 59,
   "id": "60c8ee0b",
   "metadata": {},
   "outputs": [
    {
     "data": {
      "text/plain": [
       "99.1579990094106"
      ]
     },
     "execution_count": 59,
     "metadata": {},
     "output_type": "execute_result"
    }
   ],
   "source": [
    "accuracy_score(y_test,rfc_test_pred)*100"
   ]
  },
  {
   "cell_type": "markdown",
   "id": "b4cd08c9",
   "metadata": {},
   "source": [
    "#### Classification Report For Test Data of Random Forest"
   ]
  },
  {
   "cell_type": "code",
   "execution_count": 60,
   "id": "f74aa8f0",
   "metadata": {},
   "outputs": [
    {
     "name": "stdout",
     "output_type": "stream",
     "text": [
      "              precision    recall  f1-score   support\n",
      "\n",
      "           0       1.00      0.98      0.99       783\n",
      "           1       0.97      1.00      0.99       663\n",
      "           2       1.00      1.00      1.00       573\n",
      "\n",
      "    accuracy                           0.99      2019\n",
      "   macro avg       0.99      0.99      0.99      2019\n",
      "weighted avg       0.99      0.99      0.99      2019\n",
      "\n"
     ]
    }
   ],
   "source": [
    "print(classification_report(y_test, rfc_test_pred))"
   ]
  },
  {
   "cell_type": "markdown",
   "id": "744f0f5f",
   "metadata": {},
   "source": [
    "### Saving the model"
   ]
  },
  {
   "cell_type": "code",
   "execution_count": 61,
   "id": "c9713e4e",
   "metadata": {},
   "outputs": [],
   "source": [
    "import pickle \n",
    "pickle.dump(gbt,open('gbt.pkl','wb'))"
   ]
  },
  {
   "cell_type": "code",
   "execution_count": null,
   "id": "fbd3fa4b",
   "metadata": {},
   "outputs": [],
   "source": [
    "On The Top Of The Data We Have Used # 4 Algorithms\n",
    "\n",
    "1. SVM Classifier\n",
    "\n",
    "-->Accuracy after Hyperparameter tuning = 42.0\n",
    "--> Accuracy after Hyperparameter tuning = 93.9\n",
    "\n",
    "2. Xgboost Classifier\n",
    "\n",
    "-->Training Accuracy = 100.0\n",
    "-->Test Accuracy   = 100.0\n",
    "\n",
    "\n",
    "3. Gradient Boosting Classifier \n",
    "\n",
    "-->Training Accuracy = 98.8\n",
    "-->Test Accuracy   = 98.0\n",
    "\n",
    "\n",
    "4. Random Forest Classifier\n",
    "\n",
    "-->Training Accuracy = 100.0\n",
    "-->Test Accuracy   = 99.3\n"
   ]
  }
 ],
 "metadata": {
  "kernelspec": {
   "display_name": "Python 3 (ipykernel)",
   "language": "python",
   "name": "python3"
  },
  "language_info": {
   "codemirror_mode": {
    "name": "ipython",
    "version": 3
   },
   "file_extension": ".py",
   "mimetype": "text/x-python",
   "name": "python",
   "nbconvert_exporter": "python",
   "pygments_lexer": "ipython3",
   "version": "3.9.13"
  }
 },
 "nbformat": 4,
 "nbformat_minor": 5
}
